{
  "nbformat": 4,
  "nbformat_minor": 0,
  "metadata": {
    "colab": {
      "provenance": []
    },
    "kernelspec": {
      "name": "python3",
      "display_name": "Python 3"
    },
    "language_info": {
      "name": "python"
    }
  },
  "cells": [
    {
      "cell_type": "markdown",
      "source": [
        "### **ML Bank Default Project**\n",
        "\n",
        "**Business Objective**-Build a Machine learning model to predict the Customer is defaulter or non defaulter "
      ],
      "metadata": {
        "id": "N4TIAX8Xo017"
      }
    },
    {
      "cell_type": "markdown",
      "source": [
        "**Importing pandas library**"
      ],
      "metadata": {
        "id": "Z21X65MPd0vb"
      }
    },
    {
      "cell_type": "code",
      "execution_count": 1,
      "metadata": {
        "id": "XDOPlvjsdxRQ"
      },
      "outputs": [],
      "source": [
        "import numpy as np\n",
        "import pandas as pd\n",
        "\n",
        "import matplotlib.pyplot as plt\n",
        "import seaborn as sns\n",
        "\n",
        "from sklearn.linear_model import LogisticRegression\n",
        "from sklearn.model_selection import train_test_split\n",
        "from sklearn.metrics import mean_squared_error\n",
        "from sklearn.metrics import mean_absolute_error\n",
        "from sklearn import preprocessing\n",
        "from sklearn import metrics, tree\n",
        "import warnings\n",
        "warnings.filterwarnings('ignore')"
      ]
    },
    {
      "cell_type": "code",
      "source": [
        "from sklearn.neighbors import KNeighborsClassifier\n",
        "from sklearn.linear_model import LogisticRegression\n",
        "from sklearn.naive_bayes import GaussianNB\n",
        "from sklearn.tree import DecisionTreeClassifier\n",
        "from sklearn.ensemble import RandomForestClassifier"
      ],
      "metadata": {
        "id": "JgqiQPo7d5i3"
      },
      "execution_count": 2,
      "outputs": []
    },
    {
      "cell_type": "markdown",
      "source": [
        " **Data Loading and Reading**"
      ],
      "metadata": {
        "id": "DVr0Ti-CeDT_"
      }
    },
    {
      "cell_type": "code",
      "source": [
        "# Loading data into Data source \n",
        "from google.colab import files\n",
        "uploaded = files.upload()"
      ],
      "metadata": {
        "colab": {
          "base_uri": "https://localhost:8080/",
          "height": 73
        },
        "id": "W6QM7aIzeAVB",
        "outputId": "b9a5fe13-4bc7-4bf0-ba9e-2bb9d5a8e9e5"
      },
      "execution_count": 3,
      "outputs": [
        {
          "output_type": "display_data",
          "data": {
            "text/plain": [
              "<IPython.core.display.HTML object>"
            ],
            "text/html": [
              "\n",
              "     <input type=\"file\" id=\"files-62512a9d-c4ee-47e3-bdb3-1b4833981142\" name=\"files[]\" multiple disabled\n",
              "        style=\"border:none\" />\n",
              "     <output id=\"result-62512a9d-c4ee-47e3-bdb3-1b4833981142\">\n",
              "      Upload widget is only available when the cell has been executed in the\n",
              "      current browser session. Please rerun this cell to enable.\n",
              "      </output>\n",
              "      <script>// Copyright 2017 Google LLC\n",
              "//\n",
              "// Licensed under the Apache License, Version 2.0 (the \"License\");\n",
              "// you may not use this file except in compliance with the License.\n",
              "// You may obtain a copy of the License at\n",
              "//\n",
              "//      http://www.apache.org/licenses/LICENSE-2.0\n",
              "//\n",
              "// Unless required by applicable law or agreed to in writing, software\n",
              "// distributed under the License is distributed on an \"AS IS\" BASIS,\n",
              "// WITHOUT WARRANTIES OR CONDITIONS OF ANY KIND, either express or implied.\n",
              "// See the License for the specific language governing permissions and\n",
              "// limitations under the License.\n",
              "\n",
              "/**\n",
              " * @fileoverview Helpers for google.colab Python module.\n",
              " */\n",
              "(function(scope) {\n",
              "function span(text, styleAttributes = {}) {\n",
              "  const element = document.createElement('span');\n",
              "  element.textContent = text;\n",
              "  for (const key of Object.keys(styleAttributes)) {\n",
              "    element.style[key] = styleAttributes[key];\n",
              "  }\n",
              "  return element;\n",
              "}\n",
              "\n",
              "// Max number of bytes which will be uploaded at a time.\n",
              "const MAX_PAYLOAD_SIZE = 100 * 1024;\n",
              "\n",
              "function _uploadFiles(inputId, outputId) {\n",
              "  const steps = uploadFilesStep(inputId, outputId);\n",
              "  const outputElement = document.getElementById(outputId);\n",
              "  // Cache steps on the outputElement to make it available for the next call\n",
              "  // to uploadFilesContinue from Python.\n",
              "  outputElement.steps = steps;\n",
              "\n",
              "  return _uploadFilesContinue(outputId);\n",
              "}\n",
              "\n",
              "// This is roughly an async generator (not supported in the browser yet),\n",
              "// where there are multiple asynchronous steps and the Python side is going\n",
              "// to poll for completion of each step.\n",
              "// This uses a Promise to block the python side on completion of each step,\n",
              "// then passes the result of the previous step as the input to the next step.\n",
              "function _uploadFilesContinue(outputId) {\n",
              "  const outputElement = document.getElementById(outputId);\n",
              "  const steps = outputElement.steps;\n",
              "\n",
              "  const next = steps.next(outputElement.lastPromiseValue);\n",
              "  return Promise.resolve(next.value.promise).then((value) => {\n",
              "    // Cache the last promise value to make it available to the next\n",
              "    // step of the generator.\n",
              "    outputElement.lastPromiseValue = value;\n",
              "    return next.value.response;\n",
              "  });\n",
              "}\n",
              "\n",
              "/**\n",
              " * Generator function which is called between each async step of the upload\n",
              " * process.\n",
              " * @param {string} inputId Element ID of the input file picker element.\n",
              " * @param {string} outputId Element ID of the output display.\n",
              " * @return {!Iterable<!Object>} Iterable of next steps.\n",
              " */\n",
              "function* uploadFilesStep(inputId, outputId) {\n",
              "  const inputElement = document.getElementById(inputId);\n",
              "  inputElement.disabled = false;\n",
              "\n",
              "  const outputElement = document.getElementById(outputId);\n",
              "  outputElement.innerHTML = '';\n",
              "\n",
              "  const pickedPromise = new Promise((resolve) => {\n",
              "    inputElement.addEventListener('change', (e) => {\n",
              "      resolve(e.target.files);\n",
              "    });\n",
              "  });\n",
              "\n",
              "  const cancel = document.createElement('button');\n",
              "  inputElement.parentElement.appendChild(cancel);\n",
              "  cancel.textContent = 'Cancel upload';\n",
              "  const cancelPromise = new Promise((resolve) => {\n",
              "    cancel.onclick = () => {\n",
              "      resolve(null);\n",
              "    };\n",
              "  });\n",
              "\n",
              "  // Wait for the user to pick the files.\n",
              "  const files = yield {\n",
              "    promise: Promise.race([pickedPromise, cancelPromise]),\n",
              "    response: {\n",
              "      action: 'starting',\n",
              "    }\n",
              "  };\n",
              "\n",
              "  cancel.remove();\n",
              "\n",
              "  // Disable the input element since further picks are not allowed.\n",
              "  inputElement.disabled = true;\n",
              "\n",
              "  if (!files) {\n",
              "    return {\n",
              "      response: {\n",
              "        action: 'complete',\n",
              "      }\n",
              "    };\n",
              "  }\n",
              "\n",
              "  for (const file of files) {\n",
              "    const li = document.createElement('li');\n",
              "    li.append(span(file.name, {fontWeight: 'bold'}));\n",
              "    li.append(span(\n",
              "        `(${file.type || 'n/a'}) - ${file.size} bytes, ` +\n",
              "        `last modified: ${\n",
              "            file.lastModifiedDate ? file.lastModifiedDate.toLocaleDateString() :\n",
              "                                    'n/a'} - `));\n",
              "    const percent = span('0% done');\n",
              "    li.appendChild(percent);\n",
              "\n",
              "    outputElement.appendChild(li);\n",
              "\n",
              "    const fileDataPromise = new Promise((resolve) => {\n",
              "      const reader = new FileReader();\n",
              "      reader.onload = (e) => {\n",
              "        resolve(e.target.result);\n",
              "      };\n",
              "      reader.readAsArrayBuffer(file);\n",
              "    });\n",
              "    // Wait for the data to be ready.\n",
              "    let fileData = yield {\n",
              "      promise: fileDataPromise,\n",
              "      response: {\n",
              "        action: 'continue',\n",
              "      }\n",
              "    };\n",
              "\n",
              "    // Use a chunked sending to avoid message size limits. See b/62115660.\n",
              "    let position = 0;\n",
              "    do {\n",
              "      const length = Math.min(fileData.byteLength - position, MAX_PAYLOAD_SIZE);\n",
              "      const chunk = new Uint8Array(fileData, position, length);\n",
              "      position += length;\n",
              "\n",
              "      const base64 = btoa(String.fromCharCode.apply(null, chunk));\n",
              "      yield {\n",
              "        response: {\n",
              "          action: 'append',\n",
              "          file: file.name,\n",
              "          data: base64,\n",
              "        },\n",
              "      };\n",
              "\n",
              "      let percentDone = fileData.byteLength === 0 ?\n",
              "          100 :\n",
              "          Math.round((position / fileData.byteLength) * 100);\n",
              "      percent.textContent = `${percentDone}% done`;\n",
              "\n",
              "    } while (position < fileData.byteLength);\n",
              "  }\n",
              "\n",
              "  // All done.\n",
              "  yield {\n",
              "    response: {\n",
              "      action: 'complete',\n",
              "    }\n",
              "  };\n",
              "}\n",
              "\n",
              "scope.google = scope.google || {};\n",
              "scope.google.colab = scope.google.colab || {};\n",
              "scope.google.colab._files = {\n",
              "  _uploadFiles,\n",
              "  _uploadFilesContinue,\n",
              "};\n",
              "})(self);\n",
              "</script> "
            ]
          },
          "metadata": {}
        },
        {
          "output_type": "stream",
          "name": "stdout",
          "text": [
            "Saving bankloans.csv to bankloans.csv\n"
          ]
        }
      ]
    },
    {
      "cell_type": "code",
      "source": [
        "import io\n",
        "loan = pd.read_csv(io.BytesIO(uploaded['bankloans.csv']))\n",
        "loan.sample(10)"
      ],
      "metadata": {
        "colab": {
          "base_uri": "https://localhost:8080/",
          "height": 363
        },
        "id": "whHpujP8eJ5r",
        "outputId": "9240ef71-0025-4ae9-df1b-90559f73806b"
      },
      "execution_count": 6,
      "outputs": [
        {
          "output_type": "execute_result",
          "data": {
            "text/plain": [
              "     age  ed  employ  address  income  debtinc   creddebt    othdebt  default\n",
              "92    38   1       5        5    54.0     10.6   1.499688   4.224312      0.0\n",
              "716   26   4       1        5    92.0     13.0   6.506240   5.453760      NaN\n",
              "811   38   1      21       17    65.0     16.8   2.533440   8.386560      NaN\n",
              "673   35   1       0        5    34.0     11.1   1.369962   2.404038      1.0\n",
              "632   47   1      31        9   136.0     23.1  14.231448  17.184552      1.0\n",
              "414   29   2       1        7    29.0     21.2   2.330092   3.817908      1.0\n",
              "44    26   1       0        0    14.0      7.5   0.302400   0.747600      1.0\n",
              "295   45   1      10       14    52.0      5.4   0.932256   1.875744      0.0\n",
              "486   27   4       2        8    23.0      5.7   0.319884   0.991116      1.0\n",
              "427   43   1      16        7    89.0      0.4   0.159488   0.196512      0.0"
            ],
            "text/html": [
              "\n",
              "  <div id=\"df-4953dbbc-29d7-440e-8b8e-3021d30c0339\">\n",
              "    <div class=\"colab-df-container\">\n",
              "      <div>\n",
              "<style scoped>\n",
              "    .dataframe tbody tr th:only-of-type {\n",
              "        vertical-align: middle;\n",
              "    }\n",
              "\n",
              "    .dataframe tbody tr th {\n",
              "        vertical-align: top;\n",
              "    }\n",
              "\n",
              "    .dataframe thead th {\n",
              "        text-align: right;\n",
              "    }\n",
              "</style>\n",
              "<table border=\"1\" class=\"dataframe\">\n",
              "  <thead>\n",
              "    <tr style=\"text-align: right;\">\n",
              "      <th></th>\n",
              "      <th>age</th>\n",
              "      <th>ed</th>\n",
              "      <th>employ</th>\n",
              "      <th>address</th>\n",
              "      <th>income</th>\n",
              "      <th>debtinc</th>\n",
              "      <th>creddebt</th>\n",
              "      <th>othdebt</th>\n",
              "      <th>default</th>\n",
              "    </tr>\n",
              "  </thead>\n",
              "  <tbody>\n",
              "    <tr>\n",
              "      <th>92</th>\n",
              "      <td>38</td>\n",
              "      <td>1</td>\n",
              "      <td>5</td>\n",
              "      <td>5</td>\n",
              "      <td>54.0</td>\n",
              "      <td>10.6</td>\n",
              "      <td>1.499688</td>\n",
              "      <td>4.224312</td>\n",
              "      <td>0.0</td>\n",
              "    </tr>\n",
              "    <tr>\n",
              "      <th>716</th>\n",
              "      <td>26</td>\n",
              "      <td>4</td>\n",
              "      <td>1</td>\n",
              "      <td>5</td>\n",
              "      <td>92.0</td>\n",
              "      <td>13.0</td>\n",
              "      <td>6.506240</td>\n",
              "      <td>5.453760</td>\n",
              "      <td>NaN</td>\n",
              "    </tr>\n",
              "    <tr>\n",
              "      <th>811</th>\n",
              "      <td>38</td>\n",
              "      <td>1</td>\n",
              "      <td>21</td>\n",
              "      <td>17</td>\n",
              "      <td>65.0</td>\n",
              "      <td>16.8</td>\n",
              "      <td>2.533440</td>\n",
              "      <td>8.386560</td>\n",
              "      <td>NaN</td>\n",
              "    </tr>\n",
              "    <tr>\n",
              "      <th>673</th>\n",
              "      <td>35</td>\n",
              "      <td>1</td>\n",
              "      <td>0</td>\n",
              "      <td>5</td>\n",
              "      <td>34.0</td>\n",
              "      <td>11.1</td>\n",
              "      <td>1.369962</td>\n",
              "      <td>2.404038</td>\n",
              "      <td>1.0</td>\n",
              "    </tr>\n",
              "    <tr>\n",
              "      <th>632</th>\n",
              "      <td>47</td>\n",
              "      <td>1</td>\n",
              "      <td>31</td>\n",
              "      <td>9</td>\n",
              "      <td>136.0</td>\n",
              "      <td>23.1</td>\n",
              "      <td>14.231448</td>\n",
              "      <td>17.184552</td>\n",
              "      <td>1.0</td>\n",
              "    </tr>\n",
              "    <tr>\n",
              "      <th>414</th>\n",
              "      <td>29</td>\n",
              "      <td>2</td>\n",
              "      <td>1</td>\n",
              "      <td>7</td>\n",
              "      <td>29.0</td>\n",
              "      <td>21.2</td>\n",
              "      <td>2.330092</td>\n",
              "      <td>3.817908</td>\n",
              "      <td>1.0</td>\n",
              "    </tr>\n",
              "    <tr>\n",
              "      <th>44</th>\n",
              "      <td>26</td>\n",
              "      <td>1</td>\n",
              "      <td>0</td>\n",
              "      <td>0</td>\n",
              "      <td>14.0</td>\n",
              "      <td>7.5</td>\n",
              "      <td>0.302400</td>\n",
              "      <td>0.747600</td>\n",
              "      <td>1.0</td>\n",
              "    </tr>\n",
              "    <tr>\n",
              "      <th>295</th>\n",
              "      <td>45</td>\n",
              "      <td>1</td>\n",
              "      <td>10</td>\n",
              "      <td>14</td>\n",
              "      <td>52.0</td>\n",
              "      <td>5.4</td>\n",
              "      <td>0.932256</td>\n",
              "      <td>1.875744</td>\n",
              "      <td>0.0</td>\n",
              "    </tr>\n",
              "    <tr>\n",
              "      <th>486</th>\n",
              "      <td>27</td>\n",
              "      <td>4</td>\n",
              "      <td>2</td>\n",
              "      <td>8</td>\n",
              "      <td>23.0</td>\n",
              "      <td>5.7</td>\n",
              "      <td>0.319884</td>\n",
              "      <td>0.991116</td>\n",
              "      <td>1.0</td>\n",
              "    </tr>\n",
              "    <tr>\n",
              "      <th>427</th>\n",
              "      <td>43</td>\n",
              "      <td>1</td>\n",
              "      <td>16</td>\n",
              "      <td>7</td>\n",
              "      <td>89.0</td>\n",
              "      <td>0.4</td>\n",
              "      <td>0.159488</td>\n",
              "      <td>0.196512</td>\n",
              "      <td>0.0</td>\n",
              "    </tr>\n",
              "  </tbody>\n",
              "</table>\n",
              "</div>\n",
              "      <button class=\"colab-df-convert\" onclick=\"convertToInteractive('df-4953dbbc-29d7-440e-8b8e-3021d30c0339')\"\n",
              "              title=\"Convert this dataframe to an interactive table.\"\n",
              "              style=\"display:none;\">\n",
              "        \n",
              "  <svg xmlns=\"http://www.w3.org/2000/svg\" height=\"24px\"viewBox=\"0 0 24 24\"\n",
              "       width=\"24px\">\n",
              "    <path d=\"M0 0h24v24H0V0z\" fill=\"none\"/>\n",
              "    <path d=\"M18.56 5.44l.94 2.06.94-2.06 2.06-.94-2.06-.94-.94-2.06-.94 2.06-2.06.94zm-11 1L8.5 8.5l.94-2.06 2.06-.94-2.06-.94L8.5 2.5l-.94 2.06-2.06.94zm10 10l.94 2.06.94-2.06 2.06-.94-2.06-.94-.94-2.06-.94 2.06-2.06.94z\"/><path d=\"M17.41 7.96l-1.37-1.37c-.4-.4-.92-.59-1.43-.59-.52 0-1.04.2-1.43.59L10.3 9.45l-7.72 7.72c-.78.78-.78 2.05 0 2.83L4 21.41c.39.39.9.59 1.41.59.51 0 1.02-.2 1.41-.59l7.78-7.78 2.81-2.81c.8-.78.8-2.07 0-2.86zM5.41 20L4 18.59l7.72-7.72 1.47 1.35L5.41 20z\"/>\n",
              "  </svg>\n",
              "      </button>\n",
              "      \n",
              "  <style>\n",
              "    .colab-df-container {\n",
              "      display:flex;\n",
              "      flex-wrap:wrap;\n",
              "      gap: 12px;\n",
              "    }\n",
              "\n",
              "    .colab-df-convert {\n",
              "      background-color: #E8F0FE;\n",
              "      border: none;\n",
              "      border-radius: 50%;\n",
              "      cursor: pointer;\n",
              "      display: none;\n",
              "      fill: #1967D2;\n",
              "      height: 32px;\n",
              "      padding: 0 0 0 0;\n",
              "      width: 32px;\n",
              "    }\n",
              "\n",
              "    .colab-df-convert:hover {\n",
              "      background-color: #E2EBFA;\n",
              "      box-shadow: 0px 1px 2px rgba(60, 64, 67, 0.3), 0px 1px 3px 1px rgba(60, 64, 67, 0.15);\n",
              "      fill: #174EA6;\n",
              "    }\n",
              "\n",
              "    [theme=dark] .colab-df-convert {\n",
              "      background-color: #3B4455;\n",
              "      fill: #D2E3FC;\n",
              "    }\n",
              "\n",
              "    [theme=dark] .colab-df-convert:hover {\n",
              "      background-color: #434B5C;\n",
              "      box-shadow: 0px 1px 3px 1px rgba(0, 0, 0, 0.15);\n",
              "      filter: drop-shadow(0px 1px 2px rgba(0, 0, 0, 0.3));\n",
              "      fill: #FFFFFF;\n",
              "    }\n",
              "  </style>\n",
              "\n",
              "      <script>\n",
              "        const buttonEl =\n",
              "          document.querySelector('#df-4953dbbc-29d7-440e-8b8e-3021d30c0339 button.colab-df-convert');\n",
              "        buttonEl.style.display =\n",
              "          google.colab.kernel.accessAllowed ? 'block' : 'none';\n",
              "\n",
              "        async function convertToInteractive(key) {\n",
              "          const element = document.querySelector('#df-4953dbbc-29d7-440e-8b8e-3021d30c0339');\n",
              "          const dataTable =\n",
              "            await google.colab.kernel.invokeFunction('convertToInteractive',\n",
              "                                                     [key], {});\n",
              "          if (!dataTable) return;\n",
              "\n",
              "          const docLinkHtml = 'Like what you see? Visit the ' +\n",
              "            '<a target=\"_blank\" href=https://colab.research.google.com/notebooks/data_table.ipynb>data table notebook</a>'\n",
              "            + ' to learn more about interactive tables.';\n",
              "          element.innerHTML = '';\n",
              "          dataTable['output_type'] = 'display_data';\n",
              "          await google.colab.output.renderOutput(dataTable, element);\n",
              "          const docLink = document.createElement('div');\n",
              "          docLink.innerHTML = docLinkHtml;\n",
              "          element.appendChild(docLink);\n",
              "        }\n",
              "      </script>\n",
              "    </div>\n",
              "  </div>\n",
              "  "
            ]
          },
          "metadata": {},
          "execution_count": 6
        }
      ]
    },
    {
      "cell_type": "markdown",
      "source": [
        "#### **Understanding the Dataset**"
      ],
      "metadata": {
        "id": "olXIR8uqjYrn"
      }
    },
    {
      "cell_type": "code",
      "source": [
        "rows, columns = loan.shape\n",
        "print('Rows:', rows)\n",
        "print('Columns:', columns)"
      ],
      "metadata": {
        "colab": {
          "base_uri": "https://localhost:8080/"
        },
        "id": "lFB_4MbQeae4",
        "outputId": "4e7c3266-848e-4f18-def6-3591d68d9037"
      },
      "execution_count": 7,
      "outputs": [
        {
          "output_type": "stream",
          "name": "stdout",
          "text": [
            "Rows: 850\n",
            "Columns: 9\n"
          ]
        }
      ]
    },
    {
      "cell_type": "markdown",
      "source": [
        "**Observations** :So, we see that the data is 850 rows, that is 850 data points and 9 columns, that is 9 features. Out of 9 features, 8 are input features and 1 is output feature"
      ],
      "metadata": {
        "id": "Ox7cUhmmjCS4"
      }
    },
    {
      "cell_type": "markdown",
      "source": [
        "####**Check the data types and other information.**"
      ],
      "metadata": {
        "id": "QttTYbn1jw4o"
      }
    },
    {
      "cell_type": "code",
      "source": [
        "loan.describe()"
      ],
      "metadata": {
        "colab": {
          "base_uri": "https://localhost:8080/",
          "height": 300
        },
        "id": "FijlWaGIj3C5",
        "outputId": "1c696828-96b8-47c0-a28e-30fe293d17f0"
      },
      "execution_count": 10,
      "outputs": [
        {
          "output_type": "execute_result",
          "data": {
            "text/plain": [
              "              age          ed      employ     address      income     debtinc  \\\n",
              "count  850.000000  850.000000  850.000000  850.000000  846.000000  850.000000   \n",
              "mean    35.029412    1.710588    8.565882    8.371765   46.492908   10.171647   \n",
              "std      8.041432    0.927784    6.777884    6.895016   38.369605    6.719441   \n",
              "min     20.000000    1.000000    0.000000    0.000000   13.000000    0.100000   \n",
              "25%     29.000000    1.000000    3.000000    3.000000   24.000000    5.100000   \n",
              "50%     34.000000    1.000000    7.000000    7.000000   35.000000    8.700000   \n",
              "75%     41.000000    2.000000   13.000000   12.000000   55.000000   13.800000   \n",
              "max     56.000000    5.000000   33.000000   34.000000  446.000000   41.300000   \n",
              "\n",
              "         creddebt     othdebt     default  \n",
              "count  850.000000  850.000000  700.000000  \n",
              "mean     1.576805    3.078789    0.261429  \n",
              "std      2.125840    3.398803    0.439727  \n",
              "min      0.011696    0.045584    0.000000  \n",
              "25%      0.382176    1.045942    0.000000  \n",
              "50%      0.885091    2.003243    0.000000  \n",
              "75%      1.898440    3.903001    1.000000  \n",
              "max     20.561310   35.197500    1.000000  "
            ],
            "text/html": [
              "\n",
              "  <div id=\"df-99cb1c8c-71bf-41ae-a149-503e866039d0\">\n",
              "    <div class=\"colab-df-container\">\n",
              "      <div>\n",
              "<style scoped>\n",
              "    .dataframe tbody tr th:only-of-type {\n",
              "        vertical-align: middle;\n",
              "    }\n",
              "\n",
              "    .dataframe tbody tr th {\n",
              "        vertical-align: top;\n",
              "    }\n",
              "\n",
              "    .dataframe thead th {\n",
              "        text-align: right;\n",
              "    }\n",
              "</style>\n",
              "<table border=\"1\" class=\"dataframe\">\n",
              "  <thead>\n",
              "    <tr style=\"text-align: right;\">\n",
              "      <th></th>\n",
              "      <th>age</th>\n",
              "      <th>ed</th>\n",
              "      <th>employ</th>\n",
              "      <th>address</th>\n",
              "      <th>income</th>\n",
              "      <th>debtinc</th>\n",
              "      <th>creddebt</th>\n",
              "      <th>othdebt</th>\n",
              "      <th>default</th>\n",
              "    </tr>\n",
              "  </thead>\n",
              "  <tbody>\n",
              "    <tr>\n",
              "      <th>count</th>\n",
              "      <td>850.000000</td>\n",
              "      <td>850.000000</td>\n",
              "      <td>850.000000</td>\n",
              "      <td>850.000000</td>\n",
              "      <td>846.000000</td>\n",
              "      <td>850.000000</td>\n",
              "      <td>850.000000</td>\n",
              "      <td>850.000000</td>\n",
              "      <td>700.000000</td>\n",
              "    </tr>\n",
              "    <tr>\n",
              "      <th>mean</th>\n",
              "      <td>35.029412</td>\n",
              "      <td>1.710588</td>\n",
              "      <td>8.565882</td>\n",
              "      <td>8.371765</td>\n",
              "      <td>46.492908</td>\n",
              "      <td>10.171647</td>\n",
              "      <td>1.576805</td>\n",
              "      <td>3.078789</td>\n",
              "      <td>0.261429</td>\n",
              "    </tr>\n",
              "    <tr>\n",
              "      <th>std</th>\n",
              "      <td>8.041432</td>\n",
              "      <td>0.927784</td>\n",
              "      <td>6.777884</td>\n",
              "      <td>6.895016</td>\n",
              "      <td>38.369605</td>\n",
              "      <td>6.719441</td>\n",
              "      <td>2.125840</td>\n",
              "      <td>3.398803</td>\n",
              "      <td>0.439727</td>\n",
              "    </tr>\n",
              "    <tr>\n",
              "      <th>min</th>\n",
              "      <td>20.000000</td>\n",
              "      <td>1.000000</td>\n",
              "      <td>0.000000</td>\n",
              "      <td>0.000000</td>\n",
              "      <td>13.000000</td>\n",
              "      <td>0.100000</td>\n",
              "      <td>0.011696</td>\n",
              "      <td>0.045584</td>\n",
              "      <td>0.000000</td>\n",
              "    </tr>\n",
              "    <tr>\n",
              "      <th>25%</th>\n",
              "      <td>29.000000</td>\n",
              "      <td>1.000000</td>\n",
              "      <td>3.000000</td>\n",
              "      <td>3.000000</td>\n",
              "      <td>24.000000</td>\n",
              "      <td>5.100000</td>\n",
              "      <td>0.382176</td>\n",
              "      <td>1.045942</td>\n",
              "      <td>0.000000</td>\n",
              "    </tr>\n",
              "    <tr>\n",
              "      <th>50%</th>\n",
              "      <td>34.000000</td>\n",
              "      <td>1.000000</td>\n",
              "      <td>7.000000</td>\n",
              "      <td>7.000000</td>\n",
              "      <td>35.000000</td>\n",
              "      <td>8.700000</td>\n",
              "      <td>0.885091</td>\n",
              "      <td>2.003243</td>\n",
              "      <td>0.000000</td>\n",
              "    </tr>\n",
              "    <tr>\n",
              "      <th>75%</th>\n",
              "      <td>41.000000</td>\n",
              "      <td>2.000000</td>\n",
              "      <td>13.000000</td>\n",
              "      <td>12.000000</td>\n",
              "      <td>55.000000</td>\n",
              "      <td>13.800000</td>\n",
              "      <td>1.898440</td>\n",
              "      <td>3.903001</td>\n",
              "      <td>1.000000</td>\n",
              "    </tr>\n",
              "    <tr>\n",
              "      <th>max</th>\n",
              "      <td>56.000000</td>\n",
              "      <td>5.000000</td>\n",
              "      <td>33.000000</td>\n",
              "      <td>34.000000</td>\n",
              "      <td>446.000000</td>\n",
              "      <td>41.300000</td>\n",
              "      <td>20.561310</td>\n",
              "      <td>35.197500</td>\n",
              "      <td>1.000000</td>\n",
              "    </tr>\n",
              "  </tbody>\n",
              "</table>\n",
              "</div>\n",
              "      <button class=\"colab-df-convert\" onclick=\"convertToInteractive('df-99cb1c8c-71bf-41ae-a149-503e866039d0')\"\n",
              "              title=\"Convert this dataframe to an interactive table.\"\n",
              "              style=\"display:none;\">\n",
              "        \n",
              "  <svg xmlns=\"http://www.w3.org/2000/svg\" height=\"24px\"viewBox=\"0 0 24 24\"\n",
              "       width=\"24px\">\n",
              "    <path d=\"M0 0h24v24H0V0z\" fill=\"none\"/>\n",
              "    <path d=\"M18.56 5.44l.94 2.06.94-2.06 2.06-.94-2.06-.94-.94-2.06-.94 2.06-2.06.94zm-11 1L8.5 8.5l.94-2.06 2.06-.94-2.06-.94L8.5 2.5l-.94 2.06-2.06.94zm10 10l.94 2.06.94-2.06 2.06-.94-2.06-.94-.94-2.06-.94 2.06-2.06.94z\"/><path d=\"M17.41 7.96l-1.37-1.37c-.4-.4-.92-.59-1.43-.59-.52 0-1.04.2-1.43.59L10.3 9.45l-7.72 7.72c-.78.78-.78 2.05 0 2.83L4 21.41c.39.39.9.59 1.41.59.51 0 1.02-.2 1.41-.59l7.78-7.78 2.81-2.81c.8-.78.8-2.07 0-2.86zM5.41 20L4 18.59l7.72-7.72 1.47 1.35L5.41 20z\"/>\n",
              "  </svg>\n",
              "      </button>\n",
              "      \n",
              "  <style>\n",
              "    .colab-df-container {\n",
              "      display:flex;\n",
              "      flex-wrap:wrap;\n",
              "      gap: 12px;\n",
              "    }\n",
              "\n",
              "    .colab-df-convert {\n",
              "      background-color: #E8F0FE;\n",
              "      border: none;\n",
              "      border-radius: 50%;\n",
              "      cursor: pointer;\n",
              "      display: none;\n",
              "      fill: #1967D2;\n",
              "      height: 32px;\n",
              "      padding: 0 0 0 0;\n",
              "      width: 32px;\n",
              "    }\n",
              "\n",
              "    .colab-df-convert:hover {\n",
              "      background-color: #E2EBFA;\n",
              "      box-shadow: 0px 1px 2px rgba(60, 64, 67, 0.3), 0px 1px 3px 1px rgba(60, 64, 67, 0.15);\n",
              "      fill: #174EA6;\n",
              "    }\n",
              "\n",
              "    [theme=dark] .colab-df-convert {\n",
              "      background-color: #3B4455;\n",
              "      fill: #D2E3FC;\n",
              "    }\n",
              "\n",
              "    [theme=dark] .colab-df-convert:hover {\n",
              "      background-color: #434B5C;\n",
              "      box-shadow: 0px 1px 3px 1px rgba(0, 0, 0, 0.15);\n",
              "      filter: drop-shadow(0px 1px 2px rgba(0, 0, 0, 0.3));\n",
              "      fill: #FFFFFF;\n",
              "    }\n",
              "  </style>\n",
              "\n",
              "      <script>\n",
              "        const buttonEl =\n",
              "          document.querySelector('#df-99cb1c8c-71bf-41ae-a149-503e866039d0 button.colab-df-convert');\n",
              "        buttonEl.style.display =\n",
              "          google.colab.kernel.accessAllowed ? 'block' : 'none';\n",
              "\n",
              "        async function convertToInteractive(key) {\n",
              "          const element = document.querySelector('#df-99cb1c8c-71bf-41ae-a149-503e866039d0');\n",
              "          const dataTable =\n",
              "            await google.colab.kernel.invokeFunction('convertToInteractive',\n",
              "                                                     [key], {});\n",
              "          if (!dataTable) return;\n",
              "\n",
              "          const docLinkHtml = 'Like what you see? Visit the ' +\n",
              "            '<a target=\"_blank\" href=https://colab.research.google.com/notebooks/data_table.ipynb>data table notebook</a>'\n",
              "            + ' to learn more about interactive tables.';\n",
              "          element.innerHTML = '';\n",
              "          dataTable['output_type'] = 'display_data';\n",
              "          await google.colab.output.renderOutput(dataTable, element);\n",
              "          const docLink = document.createElement('div');\n",
              "          docLink.innerHTML = docLinkHtml;\n",
              "          element.appendChild(docLink);\n",
              "        }\n",
              "      </script>\n",
              "    </div>\n",
              "  </div>\n",
              "  "
            ]
          },
          "metadata": {},
          "execution_count": 10
        }
      ]
    },
    {
      "cell_type": "code",
      "source": [
        "loan.info()"
      ],
      "metadata": {
        "colab": {
          "base_uri": "https://localhost:8080/"
        },
        "id": "LVkTKmrMi33T",
        "outputId": "e3e4f718-b840-4945-f838-45de8bdf91ac"
      },
      "execution_count": 9,
      "outputs": [
        {
          "output_type": "stream",
          "name": "stdout",
          "text": [
            "<class 'pandas.core.frame.DataFrame'>\n",
            "RangeIndex: 850 entries, 0 to 849\n",
            "Data columns (total 9 columns):\n",
            " #   Column    Non-Null Count  Dtype  \n",
            "---  ------    --------------  -----  \n",
            " 0   age       850 non-null    int64  \n",
            " 1   ed        850 non-null    int64  \n",
            " 2   employ    850 non-null    int64  \n",
            " 3   address   850 non-null    int64  \n",
            " 4   income    846 non-null    float64\n",
            " 5   debtinc   850 non-null    float64\n",
            " 6   creddebt  850 non-null    float64\n",
            " 7   othdebt   850 non-null    float64\n",
            " 8   default   700 non-null    float64\n",
            "dtypes: float64(5), int64(4)\n",
            "memory usage: 59.9 KB\n"
          ]
        }
      ]
    },
    {
      "cell_type": "markdown",
      "source": [
        "**Observations:**  \n",
        "\n",
        "*   We see data data has all numerical columns\n",
        "*   Income and default columns have null values too \n",
        "\n"
      ],
      "metadata": {
        "id": "n18CUxfdkT6u"
      }
    },
    {
      "cell_type": "markdown",
      "source": [
        "###**Exploratory Data Analysis**"
      ],
      "metadata": {
        "id": "9fQgIbYEqIcU"
      }
    },
    {
      "cell_type": "markdown",
      "source": [
        "**Let us check if there are any missing values in the data.**\n",
        "\n"
      ],
      "metadata": {
        "id": "u9o3Nrn9k-UN"
      }
    },
    {
      "cell_type": "code",
      "source": [
        "loan.isnull().sum()"
      ],
      "metadata": {
        "colab": {
          "base_uri": "https://localhost:8080/"
        },
        "id": "FZj5XyjYkCTw",
        "outputId": "a4a267b4-4982-4ff9-9279-0159992e9108"
      },
      "execution_count": 11,
      "outputs": [
        {
          "output_type": "execute_result",
          "data": {
            "text/plain": [
              "age           0\n",
              "ed            0\n",
              "employ        0\n",
              "address       0\n",
              "income        4\n",
              "debtinc       0\n",
              "creddebt      0\n",
              "othdebt       0\n",
              "default     150\n",
              "dtype: int64"
            ]
          },
          "metadata": {},
          "execution_count": 11
        }
      ]
    },
    {
      "cell_type": "markdown",
      "source": [
        "**Observation:**\n",
        "Income and default have nan values,we need to correct them"
      ],
      "metadata": {
        "id": "o6p-93BdKKZD"
      }
    },
    {
      "cell_type": "markdown",
      "source": [
        "**Dropping nan values from income column**"
      ],
      "metadata": {
        "id": "geb3jpQgvtmG"
      }
    },
    {
      "cell_type": "code",
      "source": [
        "loan = loan.dropna(axis=0, subset=['income'])"
      ],
      "metadata": {
        "id": "iXmjzoXEtq1K"
      },
      "execution_count": 18,
      "outputs": []
    },
    {
      "cell_type": "markdown",
      "source": [
        "\n",
        "**Observation**\n",
        "```\n",
        "We see that default column has 150 nan values which is hard to drop \n",
        "We can keep that null value data for future prediction and work on rest of non null data```\n",
        "\n"
      ],
      "metadata": {
        "id": "EXRpIGJ-vzOe"
      }
    },
    {
      "cell_type": "markdown",
      "source": [
        "**Seperating future data from main data**"
      ],
      "metadata": {
        "id": "4MWadv_drMF2"
      }
    },
    {
      "cell_type": "code",
      "source": [
        "future_data = loan[~loan.index.isin(loan.dropna().index)]"
      ],
      "metadata": {
        "id": "TP0KInZntx45"
      },
      "execution_count": 23,
      "outputs": []
    },
    {
      "cell_type": "code",
      "source": [
        "loan_data=loan[loan.index.isin(loan.dropna().index)]"
      ],
      "metadata": {
        "id": "aGANTvk2vj7B"
      },
      "execution_count": 25,
      "outputs": []
    },
    {
      "cell_type": "markdown",
      "source": [
        "**Let us check the data column names.**"
      ],
      "metadata": {
        "id": "9KiPQ3W2o6nf"
      }
    },
    {
      "cell_type": "code",
      "source": [
        "loan_data.columns"
      ],
      "metadata": {
        "colab": {
          "base_uri": "https://localhost:8080/"
        },
        "id": "-DWM31hdlNoL",
        "outputId": "a677a29f-3fe2-4b0e-8097-b804adf27ebc"
      },
      "execution_count": 26,
      "outputs": [
        {
          "output_type": "execute_result",
          "data": {
            "text/plain": [
              "Index(['age', 'ed', 'employ', 'address', 'income', 'debtinc', 'creddebt',\n",
              "       'othdebt', 'default'],\n",
              "      dtype='object')"
            ]
          },
          "metadata": {},
          "execution_count": 26
        }
      ]
    },
    {
      "cell_type": "markdown",
      "source": [
        "**Check the data distribution.**"
      ],
      "metadata": {
        "id": "yBaOmHn1phPK"
      }
    },
    {
      "cell_type": "code",
      "source": [
        "loan_data.hist( figsize = (22, 20) )\n",
        "plt.show()"
      ],
      "metadata": {
        "colab": {
          "base_uri": "https://localhost:8080/",
          "height": 1000
        },
        "id": "cOXQ8q8xpA8R",
        "outputId": "00c3b6d3-ec13-4b9d-8a17-589d6ed88f46"
      },
      "execution_count": 27,
      "outputs": [
        {
          "output_type": "display_data",
          "data": {
            "text/plain": [
              "<Figure size 2200x2000 with 9 Axes>"
            ],
            "image/png": "[encoded data removed]"
          },
          "metadata": {}
        }
      ]
    },
    {
      "cell_type": "markdown",
      "source": [
        "**Observation**\n",
        "\n",
        "*   We can see all our data columns are right skewed and  also have some outliers present\n",
        "*  Customers are in the Age Category of 25-40\n",
        "*   Maximum customers are of education level 1-2 or less educated\n",
        "*   Stable employed customers are in minority while the newlyhired ones are in majority\n",
        "\n",
        "*   Out of 696 Only around 200 customers are living on same address from 10 +years\n",
        "*   Maximum customers income is in Range of 10-100k\n",
        "\n",
        "*   Count of the target variable we see majority(500+) are non \n",
        "defaulters while defaulters are in minority(150+)\n",
        "\n",
        "\n",
        "\n",
        "\n",
        "\n",
        "\n",
        "\n",
        "\n",
        "\n"
      ],
      "metadata": {
        "id": "qpDAIE1opy2c"
      }
    },
    {
      "cell_type": "markdown",
      "source": [
        "###**Does education level have any impact on default?**"
      ],
      "metadata": {
        "id": "lrX8ogWOkliu"
      }
    },
    {
      "cell_type": "code",
      "source": [
        "pd.crosstab(loan_data['ed'],loan_data['default']).plot(kind='bar')  "
      ],
      "metadata": {
        "colab": {
          "base_uri": "https://localhost:8080/",
          "height": 462
        },
        "id": "KH8nXA4grdxb",
        "outputId": "adbebbd9-70e0-4391-f1c5-c6a0c53aa65c"
      },
      "execution_count": 36,
      "outputs": [
        {
          "output_type": "execute_result",
          "data": {
            "text/plain": [
              "<Axes: xlabel='ed'>"
            ]
          },
          "metadata": {},
          "execution_count": 36
        },
        {
          "output_type": "display_data",
          "data": {
            "text/plain": [
              "<Figure size 640x480 with 1 Axes>"
            ],
            "image/png": "[encoded data removed]"
          },
          "metadata": {}
        }
      ]
    },
    {
      "cell_type": "markdown",
      "source": [
        "**Observation**-\n",
        "\n",
        "\n",
        "*   In Each level of education holders count of non defaulters is less than defaluters\n",
        "*   Level 1 and 2 education customers are in majority\n",
        "\n"
      ],
      "metadata": {
        "id": "St_mv_E-0D9a"
      }
    },
    {
      "cell_type": "markdown",
      "source": [
        "###**Does Income have any impact on default?**"
      ],
      "metadata": {
        "id": "EixAZhrhvcqi"
      }
    },
    {
      "cell_type": "code",
      "source": [
        "sns.boxplot(x =\"default\",y=\"income\" ,data = loan_data)"
      ],
      "metadata": {
        "colab": {
          "base_uri": "https://localhost:8080/",
          "height": 467
        },
        "id": "O9rcpsSQ2x5h",
        "outputId": "9f050c01-d370-426a-9d64-dde5a2d56676"
      },
      "execution_count": 53,
      "outputs": [
        {
          "output_type": "execute_result",
          "data": {
            "text/plain": [
              "<Axes: xlabel='default', ylabel='income'>"
            ]
          },
          "metadata": {},
          "execution_count": 53
        },
        {
          "output_type": "display_data",
          "data": {
            "text/plain": [
              "<Figure size 640x480 with 1 Axes>"
            ],
            "image/png": "[encoded data removed]"
          },
          "metadata": {}
        }
      ]
    },
    {
      "cell_type": "markdown",
      "source": [
        "**Observations**-Income column have major outliers specially in  defaulters one"
      ],
      "metadata": {
        "id": "t0y94lQR3Qgf"
      }
    },
    {
      "cell_type": "markdown",
      "source": [
        "####**Plotting the Correlation plot**"
      ],
      "metadata": {
        "id": "r3Dicvfa2PgB"
      }
    },
    {
      "cell_type": "code",
      "source": [
        "fig, ax = plt.subplots( figsize = (12,5) )\n",
        "corr_matrix = loan_data.corr()\n",
        "corr_heatmap = sns.heatmap( corr_matrix, annot=True, ax=ax, annot_kws={\"size\": 14})\n",
        "plt.show()"
      ],
      "metadata": {
        "colab": {
          "base_uri": "https://localhost:8080/",
          "height": 451
        },
        "id": "xTn-2UQ81vVQ",
        "outputId": "4e9f5c8b-1654-4b7d-b526-266da278e77e"
      },
      "execution_count": 124,
      "outputs": [
        {
          "output_type": "display_data",
          "data": {
            "text/plain": [
              "<Figure size 1200x500 with 2 Axes>"
            ],
            "image/png": "[encoded data removed]"
          },
          "metadata": {}
        }
      ]
    },
    {
      "cell_type": "markdown",
      "source": [
        "**Observation**-\n",
        "*   We see that debtinc,employ and creddeb have maximum correlation with default\n",
        "*   While Age,ed,address,otherdebt and income have the least correlation\n",
        "\n",
        "\n"
      ],
      "metadata": {
        "id": "ImtAOM_kM5b3"
      }
    },
    {
      "cell_type": "markdown",
      "source": [
        "###**Data Scalling to bring our data in same range**"
      ],
      "metadata": {
        "id": "mmWCXcYQ3wzb"
      }
    },
    {
      "cell_type": "code",
      "source": [
        "from sklearn.preprocessing import StandardScaler\n",
        "scaler=StandardScaler()\n",
        "loan_scaling=pd.DataFrame(scaler.fit_transform(loan_data),columns=loan_data.columns)\n",
        "loan_scaling"
      ],
      "metadata": {
        "colab": {
          "base_uri": "https://localhost:8080/",
          "height": 423
        },
        "id": "gq2l5lPg2Z5d",
        "outputId": "93825859-737c-4d5c-d845-8ff1dedd0933"
      },
      "execution_count": 54,
      "outputs": [
        {
          "output_type": "execute_result",
          "data": {
            "text/plain": [
              "          age        ed    employ   address    income   debtinc  creddebt  \\\n",
              "0   -0.978600 -0.778710  0.248406 -0.332240 -0.393258  1.028450 -0.085893   \n",
              "1    0.645161 -0.778710  1.000759  0.839332  0.263377 -0.697147 -0.328261   \n",
              "2    0.770066 -0.778710  1.000759  0.839332  2.041764 -1.077363  0.534969   \n",
              "3   -1.353314  0.298789 -0.955358 -1.210918 -0.475337  1.028450  0.117738   \n",
              "4    0.770066  0.298789 -0.503947 -0.478686 -0.557417 -0.009833 -0.550157   \n",
              "..        ...       ...       ...       ...       ...       ...       ...   \n",
              "691  0.145543  0.298789 -0.353476  0.985778 -0.502697 -0.828760 -0.612716   \n",
              "692 -0.728790  0.298789 -0.353476 -0.625133 -0.666856  0.180275 -0.561269   \n",
              "693 -0.229171 -0.778710  1.000759 -0.771579 -0.365898 -0.390049 -0.502958   \n",
              "694  1.269685 -0.778710  1.602641  2.010903  0.865293 -0.273060  0.364438   \n",
              "695  0.270447 -0.778710  0.549347  0.839332 -0.037580  0.648233  0.695852   \n",
              "\n",
              "      othdebt   default  \n",
              "0    0.287843 -0.592838  \n",
              "1   -0.268382 -0.592838  \n",
              "2   -0.677578 -0.592838  \n",
              "3    0.001138  1.686803  \n",
              "4   -0.271912 -0.592838  \n",
              "..        ...       ...  \n",
              "691 -0.629404  1.686803  \n",
              "692 -0.305857 -0.592838  \n",
              "693 -0.337669 -0.592838  \n",
              "694  0.337820 -0.592838  \n",
              "695  0.127680 -0.592838  \n",
              "\n",
              "[696 rows x 9 columns]"
            ],
            "text/html": [
              "\n",
              "  <div id=\"df-647e6514-923c-4712-b4ca-d56e35d67e24\">\n",
              "    <div class=\"colab-df-container\">\n",
              "      <div>\n",
              "<style scoped>\n",
              "    .dataframe tbody tr th:only-of-type {\n",
              "        vertical-align: middle;\n",
              "    }\n",
              "\n",
              "    .dataframe tbody tr th {\n",
              "        vertical-align: top;\n",
              "    }\n",
              "\n",
              "    .dataframe thead th {\n",
              "        text-align: right;\n",
              "    }\n",
              "</style>\n",
              "<table border=\"1\" class=\"dataframe\">\n",
              "  <thead>\n",
              "    <tr style=\"text-align: right;\">\n",
              "      <th></th>\n",
              "      <th>age</th>\n",
              "      <th>ed</th>\n",
              "      <th>employ</th>\n",
              "      <th>address</th>\n",
              "      <th>income</th>\n",
              "      <th>debtinc</th>\n",
              "      <th>creddebt</th>\n",
              "      <th>othdebt</th>\n",
              "      <th>default</th>\n",
              "    </tr>\n",
              "  </thead>\n",
              "  <tbody>\n",
              "    <tr>\n",
              "      <th>0</th>\n",
              "      <td>-0.978600</td>\n",
              "      <td>-0.778710</td>\n",
              "      <td>0.248406</td>\n",
              "      <td>-0.332240</td>\n",
              "      <td>-0.393258</td>\n",
              "      <td>1.028450</td>\n",
              "      <td>-0.085893</td>\n",
              "      <td>0.287843</td>\n",
              "      <td>-0.592838</td>\n",
              "    </tr>\n",
              "    <tr>\n",
              "      <th>1</th>\n",
              "      <td>0.645161</td>\n",
              "      <td>-0.778710</td>\n",
              "      <td>1.000759</td>\n",
              "      <td>0.839332</td>\n",
              "      <td>0.263377</td>\n",
              "      <td>-0.697147</td>\n",
              "      <td>-0.328261</td>\n",
              "      <td>-0.268382</td>\n",
              "      <td>-0.592838</td>\n",
              "    </tr>\n",
              "    <tr>\n",
              "      <th>2</th>\n",
              "      <td>0.770066</td>\n",
              "      <td>-0.778710</td>\n",
              "      <td>1.000759</td>\n",
              "      <td>0.839332</td>\n",
              "      <td>2.041764</td>\n",
              "      <td>-1.077363</td>\n",
              "      <td>0.534969</td>\n",
              "      <td>-0.677578</td>\n",
              "      <td>-0.592838</td>\n",
              "    </tr>\n",
              "    <tr>\n",
              "      <th>3</th>\n",
              "      <td>-1.353314</td>\n",
              "      <td>0.298789</td>\n",
              "      <td>-0.955358</td>\n",
              "      <td>-1.210918</td>\n",
              "      <td>-0.475337</td>\n",
              "      <td>1.028450</td>\n",
              "      <td>0.117738</td>\n",
              "      <td>0.001138</td>\n",
              "      <td>1.686803</td>\n",
              "    </tr>\n",
              "    <tr>\n",
              "      <th>4</th>\n",
              "      <td>0.770066</td>\n",
              "      <td>0.298789</td>\n",
              "      <td>-0.503947</td>\n",
              "      <td>-0.478686</td>\n",
              "      <td>-0.557417</td>\n",
              "      <td>-0.009833</td>\n",
              "      <td>-0.550157</td>\n",
              "      <td>-0.271912</td>\n",
              "      <td>-0.592838</td>\n",
              "    </tr>\n",
              "    <tr>\n",
              "      <th>...</th>\n",
              "      <td>...</td>\n",
              "      <td>...</td>\n",
              "      <td>...</td>\n",
              "      <td>...</td>\n",
              "      <td>...</td>\n",
              "      <td>...</td>\n",
              "      <td>...</td>\n",
              "      <td>...</td>\n",
              "      <td>...</td>\n",
              "    </tr>\n",
              "    <tr>\n",
              "      <th>691</th>\n",
              "      <td>0.145543</td>\n",
              "      <td>0.298789</td>\n",
              "      <td>-0.353476</td>\n",
              "      <td>0.985778</td>\n",
              "      <td>-0.502697</td>\n",
              "      <td>-0.828760</td>\n",
              "      <td>-0.612716</td>\n",
              "      <td>-0.629404</td>\n",
              "      <td>1.686803</td>\n",
              "    </tr>\n",
              "    <tr>\n",
              "      <th>692</th>\n",
              "      <td>-0.728790</td>\n",
              "      <td>0.298789</td>\n",
              "      <td>-0.353476</td>\n",
              "      <td>-0.625133</td>\n",
              "      <td>-0.666856</td>\n",
              "      <td>0.180275</td>\n",
              "      <td>-0.561269</td>\n",
              "      <td>-0.305857</td>\n",
              "      <td>-0.592838</td>\n",
              "    </tr>\n",
              "    <tr>\n",
              "      <th>693</th>\n",
              "      <td>-0.229171</td>\n",
              "      <td>-0.778710</td>\n",
              "      <td>1.000759</td>\n",
              "      <td>-0.771579</td>\n",
              "      <td>-0.365898</td>\n",
              "      <td>-0.390049</td>\n",
              "      <td>-0.502958</td>\n",
              "      <td>-0.337669</td>\n",
              "      <td>-0.592838</td>\n",
              "    </tr>\n",
              "    <tr>\n",
              "      <th>694</th>\n",
              "      <td>1.269685</td>\n",
              "      <td>-0.778710</td>\n",
              "      <td>1.602641</td>\n",
              "      <td>2.010903</td>\n",
              "      <td>0.865293</td>\n",
              "      <td>-0.273060</td>\n",
              "      <td>0.364438</td>\n",
              "      <td>0.337820</td>\n",
              "      <td>-0.592838</td>\n",
              "    </tr>\n",
              "    <tr>\n",
              "      <th>695</th>\n",
              "      <td>0.270447</td>\n",
              "      <td>-0.778710</td>\n",
              "      <td>0.549347</td>\n",
              "      <td>0.839332</td>\n",
              "      <td>-0.037580</td>\n",
              "      <td>0.648233</td>\n",
              "      <td>0.695852</td>\n",
              "      <td>0.127680</td>\n",
              "      <td>-0.592838</td>\n",
              "    </tr>\n",
              "  </tbody>\n",
              "</table>\n",
              "<p>696 rows × 9 columns</p>\n",
              "</div>\n",
              "      <button class=\"colab-df-convert\" onclick=\"convertToInteractive('df-647e6514-923c-4712-b4ca-d56e35d67e24')\"\n",
              "              title=\"Convert this dataframe to an interactive table.\"\n",
              "              style=\"display:none;\">\n",
              "        \n",
              "  <svg xmlns=\"http://www.w3.org/2000/svg\" height=\"24px\"viewBox=\"0 0 24 24\"\n",
              "       width=\"24px\">\n",
              "    <path d=\"M0 0h24v24H0V0z\" fill=\"none\"/>\n",
              "    <path d=\"M18.56 5.44l.94 2.06.94-2.06 2.06-.94-2.06-.94-.94-2.06-.94 2.06-2.06.94zm-11 1L8.5 8.5l.94-2.06 2.06-.94-2.06-.94L8.5 2.5l-.94 2.06-2.06.94zm10 10l.94 2.06.94-2.06 2.06-.94-2.06-.94-.94-2.06-.94 2.06-2.06.94z\"/><path d=\"M17.41 7.96l-1.37-1.37c-.4-.4-.92-.59-1.43-.59-.52 0-1.04.2-1.43.59L10.3 9.45l-7.72 7.72c-.78.78-.78 2.05 0 2.83L4 21.41c.39.39.9.59 1.41.59.51 0 1.02-.2 1.41-.59l7.78-7.78 2.81-2.81c.8-.78.8-2.07 0-2.86zM5.41 20L4 18.59l7.72-7.72 1.47 1.35L5.41 20z\"/>\n",
              "  </svg>\n",
              "      </button>\n",
              "      \n",
              "  <style>\n",
              "    .colab-df-container {\n",
              "      display:flex;\n",
              "      flex-wrap:wrap;\n",
              "      gap: 12px;\n",
              "    }\n",
              "\n",
              "    .colab-df-convert {\n",
              "      background-color: #E8F0FE;\n",
              "      border: none;\n",
              "      border-radius: 50%;\n",
              "      cursor: pointer;\n",
              "      display: none;\n",
              "      fill: #1967D2;\n",
              "      height: 32px;\n",
              "      padding: 0 0 0 0;\n",
              "      width: 32px;\n",
              "    }\n",
              "\n",
              "    .colab-df-convert:hover {\n",
              "      background-color: #E2EBFA;\n",
              "      box-shadow: 0px 1px 2px rgba(60, 64, 67, 0.3), 0px 1px 3px 1px rgba(60, 64, 67, 0.15);\n",
              "      fill: #174EA6;\n",
              "    }\n",
              "\n",
              "    [theme=dark] .colab-df-convert {\n",
              "      background-color: #3B4455;\n",
              "      fill: #D2E3FC;\n",
              "    }\n",
              "\n",
              "    [theme=dark] .colab-df-convert:hover {\n",
              "      background-color: #434B5C;\n",
              "      box-shadow: 0px 1px 3px 1px rgba(0, 0, 0, 0.15);\n",
              "      filter: drop-shadow(0px 1px 2px rgba(0, 0, 0, 0.3));\n",
              "      fill: #FFFFFF;\n",
              "    }\n",
              "  </style>\n",
              "\n",
              "      <script>\n",
              "        const buttonEl =\n",
              "          document.querySelector('#df-647e6514-923c-4712-b4ca-d56e35d67e24 button.colab-df-convert');\n",
              "        buttonEl.style.display =\n",
              "          google.colab.kernel.accessAllowed ? 'block' : 'none';\n",
              "\n",
              "        async function convertToInteractive(key) {\n",
              "          const element = document.querySelector('#df-647e6514-923c-4712-b4ca-d56e35d67e24');\n",
              "          const dataTable =\n",
              "            await google.colab.kernel.invokeFunction('convertToInteractive',\n",
              "                                                     [key], {});\n",
              "          if (!dataTable) return;\n",
              "\n",
              "          const docLinkHtml = 'Like what you see? Visit the ' +\n",
              "            '<a target=\"_blank\" href=https://colab.research.google.com/notebooks/data_table.ipynb>data table notebook</a>'\n",
              "            + ' to learn more about interactive tables.';\n",
              "          element.innerHTML = '';\n",
              "          dataTable['output_type'] = 'display_data';\n",
              "          await google.colab.output.renderOutput(dataTable, element);\n",
              "          const docLink = document.createElement('div');\n",
              "          docLink.innerHTML = docLinkHtml;\n",
              "          element.appendChild(docLink);\n",
              "        }\n",
              "      </script>\n",
              "    </div>\n",
              "  </div>\n",
              "  "
            ]
          },
          "metadata": {},
          "execution_count": 54
        }
      ]
    },
    {
      "cell_type": "markdown",
      "source": [
        "###**Splitting the Data into Test and Train**\n",
        "\n",
        "```\n",
        "We are splitting our data in ratio of 70:30 raio with random state 20 \n",
        "So that we can use 70% data to train our model and do testing on 30 % of our data\n",
        "\n",
        "X is our dependent data \n",
        "Y is our independent data which is default column having 1 as Default and 0 as Non default```\n",
        "\n"
      ],
      "metadata": {
        "id": "l0ljndsz4Fe1"
      }
    },
    {
      "cell_type": "code",
      "source": [
        "X=loan_scaling.drop('default',axis=1)\n",
        "y=loan_data['default']"
      ],
      "metadata": {
        "id": "Rb3mCy2W3-EZ"
      },
      "execution_count": 130,
      "outputs": []
    },
    {
      "cell_type": "markdown",
      "source": [
        "**Training and Testing Splitting**"
      ],
      "metadata": {
        "id": "2k0B5Rr9xDCO"
      }
    },
    {
      "cell_type": "code",
      "source": [
        "X_train, X_test, y_train, y_test = train_test_split(X, y, test_size=0.3, random_state=20)  "
      ],
      "metadata": {
        "id": "xZQuF_JJ4QK_"
      },
      "execution_count": 131,
      "outputs": []
    },
    {
      "cell_type": "code",
      "source": [
        "print('X_train',X_train.shape)\n",
        "print('y_train',y_train.shape)\n",
        "print('X_test',X_test.shape)\n",
        "print('y_test',y_test.shape)"
      ],
      "metadata": {
        "colab": {
          "base_uri": "https://localhost:8080/"
        },
        "id": "ZxupL0ZZ4ZbF",
        "outputId": "a062dc88-6dde-4e25-a915-c940e4ab7f18"
      },
      "execution_count": 132,
      "outputs": [
        {
          "output_type": "stream",
          "name": "stdout",
          "text": [
            "X_train (487, 8)\n",
            "y_train (487,)\n",
            "X_test (209, 8)\n",
            "y_test (209,)\n"
          ]
        }
      ]
    },
    {
      "cell_type": "markdown",
      "source": [
        "###**Using Different Classifier Models to choose for the best one**\n"
      ],
      "metadata": {
        "id": "7xlVggcj4xaX"
      }
    },
    {
      "cell_type": "markdown",
      "source": [
        "####**1.Logistic Regression**\n",
        "Training the modal"
      ],
      "metadata": {
        "id": "jRPTckTK41qE"
      }
    },
    {
      "cell_type": "code",
      "source": [
        "logreg=LogisticRegression()\n",
        "logreg.fit(X_train,y_train)"
      ],
      "metadata": {
        "colab": {
          "base_uri": "https://localhost:8080/",
          "height": 74
        },
        "id": "NAMFsxQr4cwg",
        "outputId": "ab0fff61-2a9d-4973-dafd-ec0e4129bed8"
      },
      "execution_count": 133,
      "outputs": [
        {
          "output_type": "execute_result",
          "data": {
            "text/plain": [
              "LogisticRegression()"
            ],
            "text/html": [
              "<style>#sk-container-id-6 {color: black;background-color: white;}#sk-container-id-6 pre{padding: 0;}#sk-container-id-6 div.sk-toggleable {background-color: white;}#sk-container-id-6 label.sk-toggleable__label {cursor: pointer;display: block;width: 100%;margin-bottom: 0;padding: 0.3em;box-sizing: border-box;text-align: center;}#sk-container-id-6 label.sk-toggleable__label-arrow:before {content: \"▸\";float: left;margin-right: 0.25em;color: #696969;}#sk-container-id-6 label.sk-toggleable__label-arrow:hover:before {color: black;}#sk-container-id-6 div.sk-estimator:hover label.sk-toggleable__label-arrow:before {color: black;}#sk-container-id-6 div.sk-toggleable__content {max-height: 0;max-width: 0;overflow: hidden;text-align: left;background-color: #f0f8ff;}#sk-container-id-6 div.sk-toggleable__content pre {margin: 0.2em;color: black;border-radius: 0.25em;background-color: #f0f8ff;}#sk-container-id-6 input.sk-toggleable__control:checked~div.sk-toggleable__content {max-height: 200px;max-width: 100%;overflow: auto;}#sk-container-id-6 input.sk-toggleable__control:checked~label.sk-toggleable__label-arrow:before {content: \"▾\";}#sk-container-id-6 div.sk-estimator input.sk-toggleable__control:checked~label.sk-toggleable__label {background-color: #d4ebff;}#sk-container-id-6 div.sk-label input.sk-toggleable__control:checked~label.sk-toggleable__label {background-color: #d4ebff;}#sk-container-id-6 input.sk-hidden--visually {border: 0;clip: rect(1px 1px 1px 1px);clip: rect(1px, 1px, 1px, 1px);height: 1px;margin: -1px;overflow: hidden;padding: 0;position: absolute;width: 1px;}#sk-container-id-6 div.sk-estimator {font-family: monospace;background-color: #f0f8ff;border: 1px dotted black;border-radius: 0.25em;box-sizing: border-box;margin-bottom: 0.5em;}#sk-container-id-6 div.sk-estimator:hover {background-color: #d4ebff;}#sk-container-id-6 div.sk-parallel-item::after {content: \"\";width: 100%;border-bottom: 1px solid gray;flex-grow: 1;}#sk-container-id-6 div.sk-label:hover label.sk-toggleable__label {background-color: #d4ebff;}#sk-container-id-6 div.sk-serial::before {content: \"\";position: absolute;border-left: 1px solid gray;box-sizing: border-box;top: 0;bottom: 0;left: 50%;z-index: 0;}#sk-container-id-6 div.sk-serial {display: flex;flex-direction: column;align-items: center;background-color: white;padding-right: 0.2em;padding-left: 0.2em;position: relative;}#sk-container-id-6 div.sk-item {position: relative;z-index: 1;}#sk-container-id-6 div.sk-parallel {display: flex;align-items: stretch;justify-content: center;background-color: white;position: relative;}#sk-container-id-6 div.sk-item::before, #sk-container-id-6 div.sk-parallel-item::before {content: \"\";position: absolute;border-left: 1px solid gray;box-sizing: border-box;top: 0;bottom: 0;left: 50%;z-index: -1;}#sk-container-id-6 div.sk-parallel-item {display: flex;flex-direction: column;z-index: 1;position: relative;background-color: white;}#sk-container-id-6 div.sk-parallel-item:first-child::after {align-self: flex-end;width: 50%;}#sk-container-id-6 div.sk-parallel-item:last-child::after {align-self: flex-start;width: 50%;}#sk-container-id-6 div.sk-parallel-item:only-child::after {width: 0;}#sk-container-id-6 div.sk-dashed-wrapped {border: 1px dashed gray;margin: 0 0.4em 0.5em 0.4em;box-sizing: border-box;padding-bottom: 0.4em;background-color: white;}#sk-container-id-6 div.sk-label label {font-family: monospace;font-weight: bold;display: inline-block;line-height: 1.2em;}#sk-container-id-6 div.sk-label-container {text-align: center;}#sk-container-id-6 div.sk-container {/* jupyter's `normalize.less` sets `[hidden] { display: none; }` but bootstrap.min.css set `[hidden] { display: none !important; }` so we also need the `!important` here to be able to override the default hidden behavior on the sphinx rendered scikit-learn.org. See: https://github.com/scikit-learn/scikit-learn/issues/21755 */display: inline-block !important;position: relative;}#sk-container-id-6 div.sk-text-repr-fallback {display: none;}</style><div id=\"sk-container-id-6\" class=\"sk-top-container\"><div class=\"sk-text-repr-fallback\"><pre>LogisticRegression()</pre><b>In a Jupyter environment, please rerun this cell to show the HTML representation or trust the notebook. <br />On GitHub, the HTML representation is unable to render, please try loading this page with nbviewer.org.</b></div><div class=\"sk-container\" hidden><div class=\"sk-item\"><div class=\"sk-estimator sk-toggleable\"><input class=\"sk-toggleable__control sk-hidden--visually\" id=\"sk-estimator-id-6\" type=\"checkbox\" checked><label for=\"sk-estimator-id-6\" class=\"sk-toggleable__label sk-toggleable__label-arrow\">LogisticRegression</label><div class=\"sk-toggleable__content\"><pre>LogisticRegression()</pre></div></div></div></div></div>"
            ]
          },
          "metadata": {},
          "execution_count": 133
        }
      ]
    },
    {
      "cell_type": "markdown",
      "source": [
        "**Model prediction**"
      ],
      "metadata": {
        "id": "P9Z6nBNwKulr"
      }
    },
    {
      "cell_type": "code",
      "source": [
        "y_pred=logreg.predict(X_test) "
      ],
      "metadata": {
        "id": "ZVnjOlKm53ci"
      },
      "execution_count": 134,
      "outputs": []
    },
    {
      "cell_type": "markdown",
      "source": [
        "**Defining confusion matrix function for all models**\n"
      ],
      "metadata": {
        "id": "Q28YEYjvBsjL"
      }
    },
    {
      "cell_type": "code",
      "source": [
        "\n",
        "def make_confusion_matrix(model,  y_actual, labels=[1, 0], xtest=X_test):\n",
        "   \n",
        "    y_predict = model.predict(X_test)\n",
        "    cm = metrics.confusion_matrix(y_actual, y_predict, labels=[0, 1])\n",
        "    df_cm = pd.DataFrame(cm, index=[\"Default-0\",\"Default-1\"], \n",
        "                         columns=[\"Default-0\",\"Default-1\"])\n",
        "\n",
        "    group_counts = [f\"{value:0.0f}\" for value in cm.flatten()]   \n",
        "    group_percentages = [f\"{value:.2%}\" for value in cm.flatten()/np.sum(cm)]\n",
        "    \n",
        "    labels = [f\"{gc}\\n{gp}\" for gc, gp in zip(group_counts, group_percentages)]  \n",
        "    labels = np.asarray(labels).reshape(2,2)\n",
        "    \n",
        "    plt.figure(figsize = (5, 3))\n",
        "    sns.heatmap(df_cm, annot=labels, fmt='')\n",
        "    plt.ylabel('True label', fontsize=14)\n",
        "    plt.xlabel('Predicted label', fontsize=8);"
      ],
      "metadata": {
        "id": "Mb8pLyz88oox"
      },
      "execution_count": 136,
      "outputs": []
    },
    {
      "cell_type": "code",
      "source": [
        "make_confusion_matrix(logreg, y_test)"
      ],
      "metadata": {
        "colab": {
          "base_uri": "https://localhost:8080/",
          "height": 307
        },
        "id": "0w8I04wR82Wg",
        "outputId": "8b78fa00-8c05-47ff-f55d-f13be7003bd4"
      },
      "execution_count": 137,
      "outputs": [
        {
          "output_type": "display_data",
          "data": {
            "text/plain": [
              "<Figure size 500x300 with 2 Axes>"
            ],
            "image/png": "[encoded data removed]"
          },
          "metadata": {}
        }
      ]
    },
    {
      "cell_type": "markdown",
      "source": [
        "**Observations:**\n",
        "\n",
        "\n",
        "\n",
        "*   128 Customers are non defaulters which is actually true and model also predicting correctly\n",
        "*   29 Customers are Defaulters which is actually true and model also predicting correctly\n",
        "\n"
      ],
      "metadata": {
        "id": "mtYBZDDCzRdH"
      }
    },
    {
      "cell_type": "code",
      "source": [
        "from sklearn.metrics import accuracy_score\n",
        "from sklearn.metrics import recall_score\n",
        "from sklearn.metrics import precision_score\n",
        "from sklearn.metrics import f1_score"
      ],
      "metadata": {
        "id": "frNheiR39zTM"
      },
      "execution_count": 76,
      "outputs": []
    },
    {
      "cell_type": "markdown",
      "source": [
        "**Checking Accuracy, Precision, F1-Score,Recall**"
      ],
      "metadata": {
        "id": "errFBppeLVrU"
      }
    },
    {
      "cell_type": "code",
      "source": [
        "print(\"Accuracy Score  : \", accuracy_score(y_test,y_pred))\n",
        "print(\"Recall : \",recall_score(y_test,y_pred,average='weighted'))\n",
        "print(\"F1 Score: \",round(f1_score(y_test,y_pred,average='weighted'),2))\n",
        "print(\"Precision Score : \",round(precision_score(y_test,y_pred,average='weighted'),2))"
      ],
      "metadata": {
        "colab": {
          "base_uri": "https://localhost:8080/"
        },
        "id": "hkXh7FD487YK",
        "outputId": "e0e6a08a-e591-40c3-a569-fc6b998da7b5"
      },
      "execution_count": 77,
      "outputs": [
        {
          "output_type": "stream",
          "name": "stdout",
          "text": [
            "Accuracy Score  :  0.7511961722488039\n",
            "Recall :  0.7511961722488039\n",
            "F1 Score:  0.73\n",
            "Precision Score :  0.74\n"
          ]
        }
      ]
    },
    {
      "cell_type": "markdown",
      "source": [
        "**Classification Report**"
      ],
      "metadata": {
        "id": "YfxFkae5_Yqv"
      }
    },
    {
      "cell_type": "code",
      "source": [
        "from sklearn.metrics import classification_report\n",
        "print(classification_report(y_test,y_pred))"
      ],
      "metadata": {
        "colab": {
          "base_uri": "https://localhost:8080/"
        },
        "id": "PBRGGFlo_fIR",
        "outputId": "c48b9042-06bf-424d-abc2-2c27d22a7f61"
      },
      "execution_count": 150,
      "outputs": [
        {
          "output_type": "stream",
          "name": "stdout",
          "text": [
            "              precision    recall  f1-score   support\n",
            "\n",
            "         0.0       0.77      0.90      0.83       142\n",
            "         1.0       0.67      0.43      0.53        67\n",
            "\n",
            "    accuracy                           0.75       209\n",
            "   macro avg       0.72      0.67      0.68       209\n",
            "weighted avg       0.74      0.75      0.73       209\n",
            "\n"
          ]
        }
      ]
    },
    {
      "cell_type": "markdown",
      "source": [
        "**Observation**-\n",
        "*   Log regression model is predicting Accuracy of 75%\n",
        "*  Out of 209 , 142 predictions are Non defaluters and 67 defaulters\n",
        "\n",
        "\n"
      ],
      "metadata": {
        "id": "dD-dxlAE0DL2"
      }
    },
    {
      "cell_type": "markdown",
      "source": [
        "**ROC CURVE**"
      ],
      "metadata": {
        "id": "9siHj_WZiP07"
      }
    },
    {
      "cell_type": "code",
      "source": [
        "from sklearn import datasets, metrics, model_selection, svm\n",
        "y_pred_proba = logreg.predict_proba(X_test)[::,1]\n",
        "fpr, tpr, _ = metrics.roc_curve(y_test,  y_pred_proba)\n",
        "\n",
        "#create ROC curve\n",
        "plt.plot(fpr,tpr)\n",
        "plt.ylabel('True Positive Rate')\n",
        "plt.xlabel('False Positive Rate')\n",
        "plt.show()"
      ],
      "metadata": {
        "colab": {
          "base_uri": "https://localhost:8080/",
          "height": 449
        },
        "id": "zEMbUfEThgxv",
        "outputId": "044c3670-dc9d-4609-8a65-7d08aa5ab500"
      },
      "execution_count": 122,
      "outputs": [
        {
          "output_type": "display_data",
          "data": {
            "text/plain": [
              "<Figure size 640x480 with 1 Axes>"
            ],
            "image/png": "[encoded data removed]"
          },
          "metadata": {}
        }
      ]
    },
    {
      "cell_type": "markdown",
      "source": [
        "**Observation**\n",
        "\n",
        "*  Log regression provides Accuarcy of 75% \n",
        "*  Where -Right pred(True positives and false negatives)were 61.2 and 13.8% \n",
        "*  Wrong pred(True negative and false positive) were 18.1 and 6.7%\n",
        "\n",
        "\n"
      ],
      "metadata": {
        "id": "FS_o7qWwH5C2"
      }
    },
    {
      "cell_type": "markdown",
      "source": [
        "####**2.NAIVE BEYES**\n",
        "Building the model"
      ],
      "metadata": {
        "id": "XDR0ZgYv96xL"
      }
    },
    {
      "cell_type": "code",
      "source": [
        "nb_model=GaussianNB()\n",
        "nb_model.fit(X_train,y_train)"
      ],
      "metadata": {
        "colab": {
          "base_uri": "https://localhost:8080/",
          "height": 74
        },
        "id": "EV5MiI1p92eM",
        "outputId": "b4a495cd-9fab-4cae-a12a-a4dc9a16c412"
      },
      "execution_count": 78,
      "outputs": [
        {
          "output_type": "execute_result",
          "data": {
            "text/plain": [
              "GaussianNB()"
            ],
            "text/html": [
              "<style>#sk-container-id-2 {color: black;background-color: white;}#sk-container-id-2 pre{padding: 0;}#sk-container-id-2 div.sk-toggleable {background-color: white;}#sk-container-id-2 label.sk-toggleable__label {cursor: pointer;display: block;width: 100%;margin-bottom: 0;padding: 0.3em;box-sizing: border-box;text-align: center;}#sk-container-id-2 label.sk-toggleable__label-arrow:before {content: \"▸\";float: left;margin-right: 0.25em;color: #696969;}#sk-container-id-2 label.sk-toggleable__label-arrow:hover:before {color: black;}#sk-container-id-2 div.sk-estimator:hover label.sk-toggleable__label-arrow:before {color: black;}#sk-container-id-2 div.sk-toggleable__content {max-height: 0;max-width: 0;overflow: hidden;text-align: left;background-color: #f0f8ff;}#sk-container-id-2 div.sk-toggleable__content pre {margin: 0.2em;color: black;border-radius: 0.25em;background-color: #f0f8ff;}#sk-container-id-2 input.sk-toggleable__control:checked~div.sk-toggleable__content {max-height: 200px;max-width: 100%;overflow: auto;}#sk-container-id-2 input.sk-toggleable__control:checked~label.sk-toggleable__label-arrow:before {content: \"▾\";}#sk-container-id-2 div.sk-estimator input.sk-toggleable__control:checked~label.sk-toggleable__label {background-color: #d4ebff;}#sk-container-id-2 div.sk-label input.sk-toggleable__control:checked~label.sk-toggleable__label {background-color: #d4ebff;}#sk-container-id-2 input.sk-hidden--visually {border: 0;clip: rect(1px 1px 1px 1px);clip: rect(1px, 1px, 1px, 1px);height: 1px;margin: -1px;overflow: hidden;padding: 0;position: absolute;width: 1px;}#sk-container-id-2 div.sk-estimator {font-family: monospace;background-color: #f0f8ff;border: 1px dotted black;border-radius: 0.25em;box-sizing: border-box;margin-bottom: 0.5em;}#sk-container-id-2 div.sk-estimator:hover {background-color: #d4ebff;}#sk-container-id-2 div.sk-parallel-item::after {content: \"\";width: 100%;border-bottom: 1px solid gray;flex-grow: 1;}#sk-container-id-2 div.sk-label:hover label.sk-toggleable__label {background-color: #d4ebff;}#sk-container-id-2 div.sk-serial::before {content: \"\";position: absolute;border-left: 1px solid gray;box-sizing: border-box;top: 0;bottom: 0;left: 50%;z-index: 0;}#sk-container-id-2 div.sk-serial {display: flex;flex-direction: column;align-items: center;background-color: white;padding-right: 0.2em;padding-left: 0.2em;position: relative;}#sk-container-id-2 div.sk-item {position: relative;z-index: 1;}#sk-container-id-2 div.sk-parallel {display: flex;align-items: stretch;justify-content: center;background-color: white;position: relative;}#sk-container-id-2 div.sk-item::before, #sk-container-id-2 div.sk-parallel-item::before {content: \"\";position: absolute;border-left: 1px solid gray;box-sizing: border-box;top: 0;bottom: 0;left: 50%;z-index: -1;}#sk-container-id-2 div.sk-parallel-item {display: flex;flex-direction: column;z-index: 1;position: relative;background-color: white;}#sk-container-id-2 div.sk-parallel-item:first-child::after {align-self: flex-end;width: 50%;}#sk-container-id-2 div.sk-parallel-item:last-child::after {align-self: flex-start;width: 50%;}#sk-container-id-2 div.sk-parallel-item:only-child::after {width: 0;}#sk-container-id-2 div.sk-dashed-wrapped {border: 1px dashed gray;margin: 0 0.4em 0.5em 0.4em;box-sizing: border-box;padding-bottom: 0.4em;background-color: white;}#sk-container-id-2 div.sk-label label {font-family: monospace;font-weight: bold;display: inline-block;line-height: 1.2em;}#sk-container-id-2 div.sk-label-container {text-align: center;}#sk-container-id-2 div.sk-container {/* jupyter's `normalize.less` sets `[hidden] { display: none; }` but bootstrap.min.css set `[hidden] { display: none !important; }` so we also need the `!important` here to be able to override the default hidden behavior on the sphinx rendered scikit-learn.org. See: https://github.com/scikit-learn/scikit-learn/issues/21755 */display: inline-block !important;position: relative;}#sk-container-id-2 div.sk-text-repr-fallback {display: none;}</style><div id=\"sk-container-id-2\" class=\"sk-top-container\"><div class=\"sk-text-repr-fallback\"><pre>GaussianNB()</pre><b>In a Jupyter environment, please rerun this cell to show the HTML representation or trust the notebook. <br />On GitHub, the HTML representation is unable to render, please try loading this page with nbviewer.org.</b></div><div class=\"sk-container\" hidden><div class=\"sk-item\"><div class=\"sk-estimator sk-toggleable\"><input class=\"sk-toggleable__control sk-hidden--visually\" id=\"sk-estimator-id-2\" type=\"checkbox\" checked><label for=\"sk-estimator-id-2\" class=\"sk-toggleable__label sk-toggleable__label-arrow\">GaussianNB</label><div class=\"sk-toggleable__content\"><pre>GaussianNB()</pre></div></div></div></div></div>"
            ]
          },
          "metadata": {},
          "execution_count": 78
        }
      ]
    },
    {
      "cell_type": "markdown",
      "source": [
        "**Value prediction**"
      ],
      "metadata": {
        "id": "zBDIeUYVLrrd"
      }
    },
    {
      "cell_type": "code",
      "source": [
        "y_pred2 = nb_model.predict(X_test) "
      ],
      "metadata": {
        "id": "LNq97n5y-D_a"
      },
      "execution_count": 79,
      "outputs": []
    },
    {
      "cell_type": "markdown",
      "source": [
        "**Model Evaluation**"
      ],
      "metadata": {
        "id": "YDe_k4DF-NWG"
      }
    },
    {
      "cell_type": "code",
      "source": [
        "# Confusion matrix\n",
        "make_confusion_matrix(nb_model, y_test)"
      ],
      "metadata": {
        "colab": {
          "base_uri": "https://localhost:8080/",
          "height": 307
        },
        "id": "qvl8o_vD-F5N",
        "outputId": "657e1d60-a686-4b39-cd3c-bea8fadedf53"
      },
      "execution_count": 80,
      "outputs": [
        {
          "output_type": "display_data",
          "data": {
            "text/plain": [
              "<Figure size 500x300 with 2 Axes>"
            ],
            "image/png": "[encoded data removed]"
          },
          "metadata": {}
        }
      ]
    },
    {
      "cell_type": "markdown",
      "source": [
        "**Observations**:\n",
        "\n",
        "*   128 Customers are non defaulters which is actually true and model also predicting correctly\n",
        "*   20 Customers are Defaulters which is actually true and model also \n",
        "predicting correctly"
      ],
      "metadata": {
        "id": "QrvzpBW90YGB"
      }
    },
    {
      "cell_type": "markdown",
      "source": [
        "**Checking Accuracy, Precision, F1-Score,Recall**"
      ],
      "metadata": {
        "id": "gullVpWAL3x6"
      }
    },
    {
      "cell_type": "code",
      "source": [
        "print(\"Accuracy Score  : \", round(accuracy_score(y_test,y_pred2),2))\n",
        "print(\"Recall : \",round(recall_score(y_test,y_pred2,average='weighted'),2))\n",
        "print(\"F1 Score: \",round(f1_score(y_test,y_pred2,average='weighted'),2))\n",
        "print(\"Precision Score : \",round(precision_score(y_test,y_pred2,average='weighted'),2))"
      ],
      "metadata": {
        "colab": {
          "base_uri": "https://localhost:8080/"
        },
        "id": "6XcdJTPb-Ja1",
        "outputId": "a280c981-d859-4a9d-f3f2-4a4235ffa6e8"
      },
      "execution_count": 81,
      "outputs": [
        {
          "output_type": "stream",
          "name": "stdout",
          "text": [
            "Accuracy Score  :  0.71\n",
            "Recall :  0.71\n",
            "F1 Score:  0.68\n",
            "Precision Score :  0.69\n"
          ]
        }
      ]
    },
    {
      "cell_type": "markdown",
      "source": [
        "**Classification Report**"
      ],
      "metadata": {
        "id": "yC8jt2kc-979"
      }
    },
    {
      "cell_type": "code",
      "source": [
        "from sklearn.metrics import classification_report\n",
        "print(classification_report(y_test,y_pred2))"
      ],
      "metadata": {
        "colab": {
          "base_uri": "https://localhost:8080/"
        },
        "id": "s1z8YQ1o_BoZ",
        "outputId": "322220b6-86ef-4570-fec7-85aaffeba20e"
      },
      "execution_count": 149,
      "outputs": [
        {
          "output_type": "stream",
          "name": "stdout",
          "text": [
            "              precision    recall  f1-score   support\n",
            "\n",
            "         0.0       0.73      0.90      0.81       142\n",
            "         1.0       0.59      0.30      0.40        67\n",
            "\n",
            "    accuracy                           0.71       209\n",
            "   macro avg       0.66      0.60      0.60       209\n",
            "weighted avg       0.69      0.71      0.68       209\n",
            "\n"
          ]
        }
      ]
    },
    {
      "cell_type": "markdown",
      "source": [
        "**Observation**- \n",
        "\n",
        "*   Naive Beyes model is predicting Accuracy of 71%\n",
        "\n",
        "*   Out of 209 , 142 predictions are Non defaluters and 67 defaulters\n",
        "\n",
        "\n"
      ],
      "metadata": {
        "id": "k0u2NNW-1nM3"
      }
    },
    {
      "cell_type": "markdown",
      "source": [
        "**ROC CURVE**"
      ],
      "metadata": {
        "id": "Yu1GlsLJ1rBU"
      }
    },
    {
      "cell_type": "code",
      "source": [
        "from sklearn import datasets, metrics, model_selection, svm\n",
        "y_pred_proba = nb_model.predict_proba(X_test)[::,1]\n",
        "fpr, tpr, _ = metrics.roc_curve(y_test,  y_pred_proba)\n",
        "\n",
        "#create ROC curve\n",
        "plt.plot(fpr,tpr)\n",
        "plt.ylabel('True Positive Rate')\n",
        "plt.xlabel('False Positive Rate')\n",
        "plt.show()"
      ],
      "metadata": {
        "colab": {
          "base_uri": "https://localhost:8080/",
          "height": 449
        },
        "id": "0UEyy3CK1uNF",
        "outputId": "2cb7535c-9358-4fdd-fdfb-7c8a7f14dc07"
      },
      "execution_count": 138,
      "outputs": [
        {
          "output_type": "display_data",
          "data": {
            "text/plain": [
              "<Figure size 640x480 with 1 Axes>"
            ],
            "image/png": "[encoded data removed]"
          },
          "metadata": {}
        }
      ]
    },
    {
      "cell_type": "markdown",
      "source": [
        "**Observation**\n",
        "\n",
        "*  Naive Beyes provides Accuarcy of 71% \n",
        "*  Where -Right pred(True positives and false negatives)were 61.2 and 9.5% \n",
        "*  Wrong pred(True negative and false positive) were 22.4 and 6.7%\n",
        "\n",
        "\n"
      ],
      "metadata": {
        "id": "XJjZtOo2JPFN"
      }
    },
    {
      "cell_type": "markdown",
      "source": [
        "#### **3.DECISION TREE**\n",
        "Building the model"
      ],
      "metadata": {
        "id": "PPBffnN3-UVx"
      }
    },
    {
      "cell_type": "code",
      "source": [
        " dt_model = DecisionTreeClassifier()\n",
        "\n",
        "# feeding the training data to the model\n",
        "dt_model.fit(X_train, y_train)"
      ],
      "metadata": {
        "colab": {
          "base_uri": "https://localhost:8080/",
          "height": 74
        },
        "id": "h05W9GdW-Qtr",
        "outputId": "9d97cfe4-cee6-4e3d-ed37-628f48732c9e"
      },
      "execution_count": 141,
      "outputs": [
        {
          "output_type": "execute_result",
          "data": {
            "text/plain": [
              "DecisionTreeClassifier()"
            ],
            "text/html": [
              "<style>#sk-container-id-7 {color: black;background-color: white;}#sk-container-id-7 pre{padding: 0;}#sk-container-id-7 div.sk-toggleable {background-color: white;}#sk-container-id-7 label.sk-toggleable__label {cursor: pointer;display: block;width: 100%;margin-bottom: 0;padding: 0.3em;box-sizing: border-box;text-align: center;}#sk-container-id-7 label.sk-toggleable__label-arrow:before {content: \"▸\";float: left;margin-right: 0.25em;color: #696969;}#sk-container-id-7 label.sk-toggleable__label-arrow:hover:before {color: black;}#sk-container-id-7 div.sk-estimator:hover label.sk-toggleable__label-arrow:before {color: black;}#sk-container-id-7 div.sk-toggleable__content {max-height: 0;max-width: 0;overflow: hidden;text-align: left;background-color: #f0f8ff;}#sk-container-id-7 div.sk-toggleable__content pre {margin: 0.2em;color: black;border-radius: 0.25em;background-color: #f0f8ff;}#sk-container-id-7 input.sk-toggleable__control:checked~div.sk-toggleable__content {max-height: 200px;max-width: 100%;overflow: auto;}#sk-container-id-7 input.sk-toggleable__control:checked~label.sk-toggleable__label-arrow:before {content: \"▾\";}#sk-container-id-7 div.sk-estimator input.sk-toggleable__control:checked~label.sk-toggleable__label {background-color: #d4ebff;}#sk-container-id-7 div.sk-label input.sk-toggleable__control:checked~label.sk-toggleable__label {background-color: #d4ebff;}#sk-container-id-7 input.sk-hidden--visually {border: 0;clip: rect(1px 1px 1px 1px);clip: rect(1px, 1px, 1px, 1px);height: 1px;margin: -1px;overflow: hidden;padding: 0;position: absolute;width: 1px;}#sk-container-id-7 div.sk-estimator {font-family: monospace;background-color: #f0f8ff;border: 1px dotted black;border-radius: 0.25em;box-sizing: border-box;margin-bottom: 0.5em;}#sk-container-id-7 div.sk-estimator:hover {background-color: #d4ebff;}#sk-container-id-7 div.sk-parallel-item::after {content: \"\";width: 100%;border-bottom: 1px solid gray;flex-grow: 1;}#sk-container-id-7 div.sk-label:hover label.sk-toggleable__label {background-color: #d4ebff;}#sk-container-id-7 div.sk-serial::before {content: \"\";position: absolute;border-left: 1px solid gray;box-sizing: border-box;top: 0;bottom: 0;left: 50%;z-index: 0;}#sk-container-id-7 div.sk-serial {display: flex;flex-direction: column;align-items: center;background-color: white;padding-right: 0.2em;padding-left: 0.2em;position: relative;}#sk-container-id-7 div.sk-item {position: relative;z-index: 1;}#sk-container-id-7 div.sk-parallel {display: flex;align-items: stretch;justify-content: center;background-color: white;position: relative;}#sk-container-id-7 div.sk-item::before, #sk-container-id-7 div.sk-parallel-item::before {content: \"\";position: absolute;border-left: 1px solid gray;box-sizing: border-box;top: 0;bottom: 0;left: 50%;z-index: -1;}#sk-container-id-7 div.sk-parallel-item {display: flex;flex-direction: column;z-index: 1;position: relative;background-color: white;}#sk-container-id-7 div.sk-parallel-item:first-child::after {align-self: flex-end;width: 50%;}#sk-container-id-7 div.sk-parallel-item:last-child::after {align-self: flex-start;width: 50%;}#sk-container-id-7 div.sk-parallel-item:only-child::after {width: 0;}#sk-container-id-7 div.sk-dashed-wrapped {border: 1px dashed gray;margin: 0 0.4em 0.5em 0.4em;box-sizing: border-box;padding-bottom: 0.4em;background-color: white;}#sk-container-id-7 div.sk-label label {font-family: monospace;font-weight: bold;display: inline-block;line-height: 1.2em;}#sk-container-id-7 div.sk-label-container {text-align: center;}#sk-container-id-7 div.sk-container {/* jupyter's `normalize.less` sets `[hidden] { display: none; }` but bootstrap.min.css set `[hidden] { display: none !important; }` so we also need the `!important` here to be able to override the default hidden behavior on the sphinx rendered scikit-learn.org. See: https://github.com/scikit-learn/scikit-learn/issues/21755 */display: inline-block !important;position: relative;}#sk-container-id-7 div.sk-text-repr-fallback {display: none;}</style><div id=\"sk-container-id-7\" class=\"sk-top-container\"><div class=\"sk-text-repr-fallback\"><pre>DecisionTreeClassifier()</pre><b>In a Jupyter environment, please rerun this cell to show the HTML representation or trust the notebook. <br />On GitHub, the HTML representation is unable to render, please try loading this page with nbviewer.org.</b></div><div class=\"sk-container\" hidden><div class=\"sk-item\"><div class=\"sk-estimator sk-toggleable\"><input class=\"sk-toggleable__control sk-hidden--visually\" id=\"sk-estimator-id-7\" type=\"checkbox\" checked><label for=\"sk-estimator-id-7\" class=\"sk-toggleable__label sk-toggleable__label-arrow\">DecisionTreeClassifier</label><div class=\"sk-toggleable__content\"><pre>DecisionTreeClassifier()</pre></div></div></div></div></div>"
            ]
          },
          "metadata": {},
          "execution_count": 141
        }
      ]
    },
    {
      "cell_type": "markdown",
      "source": [
        "**Model Prediction**"
      ],
      "metadata": {
        "id": "GGB1RU8G-lzS"
      }
    },
    {
      "cell_type": "code",
      "source": [
        "y_pred3 = dt_model.predict(X_test)"
      ],
      "metadata": {
        "id": "y_WXvabr-cCV"
      },
      "execution_count": 142,
      "outputs": []
    },
    {
      "cell_type": "markdown",
      "source": [
        "**Model evaluation**"
      ],
      "metadata": {
        "id": "ZSOoY4z9-tAt"
      }
    },
    {
      "cell_type": "code",
      "source": [
        "# Confusion matrix\n",
        "make_confusion_matrix(dt_model, y_test)"
      ],
      "metadata": {
        "colab": {
          "base_uri": "https://localhost:8080/",
          "height": 307
        },
        "id": "FAJgy0g3-el0",
        "outputId": "c0836e90-3408-4c98-a951-d8e64494a539"
      },
      "execution_count": 143,
      "outputs": [
        {
          "output_type": "display_data",
          "data": {
            "text/plain": [
              "<Figure size 500x300 with 2 Axes>"
            ],
            "image/png": "[encoded data removed]"
          },
          "metadata": {}
        }
      ]
    },
    {
      "cell_type": "markdown",
      "source": [
        "**Observations**:\n",
        "\n",
        "\n",
        "*   121 Customers are non defaulters which is actually true and model also predicting correctly\n",
        "*   28 Customers are Defaulters which is actually true and model also \n",
        "predicting correctly"
      ],
      "metadata": {
        "id": "NXiL8Hla2dLG"
      }
    },
    {
      "cell_type": "markdown",
      "source": [
        "**Checking Accuracy, Precision, F1-Score,Recall**"
      ],
      "metadata": {
        "id": "Bxbr51CQMDx4"
      }
    },
    {
      "cell_type": "code",
      "source": [
        "print(\"Accuracy Score  : \", round(accuracy_score(y_test,y_pred3),2))\n",
        "print(\"Recall : \",round(recall_score(y_test,y_pred3,average='weighted'),2))\n",
        "print(\"F1 Score: \",round(f1_score(y_test,y_pred3,average='weighted'),2))\n",
        "print(\"Precision Score : \",round(precision_score(y_test,y_pred3,average='weighted'),2))"
      ],
      "metadata": {
        "colab": {
          "base_uri": "https://localhost:8080/"
        },
        "id": "JisVJGuS-vPp",
        "outputId": "e7a13198-9274-47a3-f71e-bc39ae37f3c2"
      },
      "execution_count": 86,
      "outputs": [
        {
          "output_type": "stream",
          "name": "stdout",
          "text": [
            "Accuracy Score  :  0.71\n",
            "Recall :  0.71\n",
            "F1 Score:  0.7\n",
            "Precision Score :  0.7\n"
          ]
        }
      ]
    },
    {
      "cell_type": "markdown",
      "source": [
        "***Classification report***"
      ],
      "metadata": {
        "id": "AB33Poav-dEG"
      }
    },
    {
      "cell_type": "code",
      "source": [
        "from sklearn.metrics import classification_report\n",
        "print(classification_report(y_test,y_pred3))"
      ],
      "metadata": {
        "colab": {
          "base_uri": "https://localhost:8080/"
        },
        "id": "X0jFCbvO-KoG",
        "outputId": "c64f853a-dad7-467a-fed3-e5b22b28e1c1"
      },
      "execution_count": 148,
      "outputs": [
        {
          "output_type": "stream",
          "name": "stdout",
          "text": [
            "              precision    recall  f1-score   support\n",
            "\n",
            "         0.0       0.75      0.84      0.79       142\n",
            "         1.0       0.54      0.40      0.46        67\n",
            "\n",
            "    accuracy                           0.70       209\n",
            "   macro avg       0.64      0.62      0.63       209\n",
            "weighted avg       0.68      0.70      0.69       209\n",
            "\n"
          ]
        }
      ]
    },
    {
      "cell_type": "markdown",
      "source": [
        "**Observation**- \n",
        "\n",
        "*   Decision Tree model is predicting Accuracy of 71%\n",
        "*   Out of 209 , 142 predictions are Non defaluters and 67 defaulters\n",
        "\n"
      ],
      "metadata": {
        "id": "4b97-feB2uJR"
      }
    },
    {
      "cell_type": "markdown",
      "source": [
        "**ROC CURVE**"
      ],
      "metadata": {
        "id": "cLzr_pu622Fc"
      }
    },
    {
      "cell_type": "code",
      "source": [
        "from sklearn import datasets, metrics, model_selection, svm\n",
        "y_pred_proba = dt_model.predict_proba(X_test)[::,1]\n",
        "fpr, tpr, _ = metrics.roc_curve(y_test,  y_pred_proba)\n",
        "\n",
        "#create ROC curve\n",
        "plt.plot(fpr,tpr)\n",
        "plt.ylabel('True Positive Rate')\n",
        "plt.xlabel('False Positive Rate')\n",
        "plt.show()"
      ],
      "metadata": {
        "colab": {
          "base_uri": "https://localhost:8080/",
          "height": 449
        },
        "id": "BP5vDd2V25Nm",
        "outputId": "1adaa305-6e18-4f98-865e-72aa4ced24f8"
      },
      "execution_count": 144,
      "outputs": [
        {
          "output_type": "display_data",
          "data": {
            "text/plain": [
              "<Figure size 640x480 with 1 Axes>"
            ],
            "image/png": "[encoded data removed]"
          },
          "metadata": {}
        }
      ]
    },
    {
      "cell_type": "markdown",
      "source": [
        "**Observation**\n",
        "\n",
        "*  Decision Tree provides Accuarcy of 71% \n",
        "*  Where -Right pred(True positives and false negatives)were 57.8 and 13.4% \n",
        "*  Wrong pred(True negative and false positive) were 18.6 and 10.05%\n",
        "\n",
        "\n"
      ],
      "metadata": {
        "id": "rxESvKnAJfCB"
      }
    },
    {
      "cell_type": "markdown",
      "source": [
        "."
      ],
      "metadata": {
        "id": "rXX2vhVwMJmm"
      }
    },
    {
      "cell_type": "markdown",
      "source": [
        "###**Comparing all the models to check whose Accuracy,recall,precision and F1_score is best**"
      ],
      "metadata": {
        "id": "RjY7zw6m_A1B"
      }
    },
    {
      "cell_type": "code",
      "source": [
        "LOG='LOG',round(accuracy_score(y_test,y_pred),2),round(recall_score(y_test,y_pred,average='weighted'),2),round(f1_score(y_test,y_pred,average='weighted'),2),round(precision_score(y_test,y_pred,average='weighted'),2)\n",
        "NAIVE='NAIVE',round(accuracy_score(y_test,y_pred2),2),round(recall_score(y_test,y_pred2,average='weighted'),2),round(f1_score(y_test,y_pred2,average='weighted'),2),round(precision_score(y_test,y_pred2,average='weighted'),2)\n",
        "DECISION='DECISION',round(accuracy_score(y_test,y_pred3),2),round(recall_score(y_test,y_pred3,average='weighted'),2),round(f1_score(y_test,y_pred3,average='weighted'),2),round(precision_score(y_test,y_pred3,average='weighted'),2)"
      ],
      "metadata": {
        "id": "BuSz9pkO-yoN"
      },
      "execution_count": 87,
      "outputs": []
    },
    {
      "cell_type": "code",
      "source": [
        "list1=['Model name','Accuracy score','Recall','Precison','F1_Score'] "
      ],
      "metadata": {
        "id": "ToSoL-bO_SVJ"
      },
      "execution_count": 88,
      "outputs": []
    },
    {
      "cell_type": "code",
      "source": [
        "df=pd.Series(list1)"
      ],
      "metadata": {
        "id": "2FuRDJXW_5LS"
      },
      "execution_count": 93,
      "outputs": []
    },
    {
      "cell_type": "code",
      "source": [
        "df1=pd.Series(LOG)\n",
        "df2=pd.Series(NAIVE)\n",
        "df3=pd.Series(DECISION)"
      ],
      "metadata": {
        "id": "H2h-IYev_Tqd"
      },
      "execution_count": 89,
      "outputs": []
    },
    {
      "cell_type": "code",
      "source": [
        "abc = pd.concat([df,df1,df2,df3], axis=1) \n",
        "abc.set_index(df,inplace=True)\n",
        "abc.iloc[:,1:4]"
      ],
      "metadata": {
        "colab": {
          "base_uri": "https://localhost:8080/",
          "height": 206
        },
        "id": "0tnCw8jZ_W-c",
        "outputId": "09c5ff9a-4dc2-47f1-9a4b-9ccea9ec0d47"
      },
      "execution_count": 109,
      "outputs": [
        {
          "output_type": "execute_result",
          "data": {
            "text/plain": [
              "                   1      2         3\n",
              "Model name       LOG  NAIVE  DECISION\n",
              "Accuracy score  0.75   0.71      0.71\n",
              "Recall          0.75   0.71      0.71\n",
              "Precison        0.73   0.68       0.7\n",
              "F1_Score        0.74   0.69       0.7"
            ],
            "text/html": [
              "\n",
              "  <div id=\"df-34bc7328-3111-4045-b904-2312d4605b39\">\n",
              "    <div class=\"colab-df-container\">\n",
              "      <div>\n",
              "<style scoped>\n",
              "    .dataframe tbody tr th:only-of-type {\n",
              "        vertical-align: middle;\n",
              "    }\n",
              "\n",
              "    .dataframe tbody tr th {\n",
              "        vertical-align: top;\n",
              "    }\n",
              "\n",
              "    .dataframe thead th {\n",
              "        text-align: right;\n",
              "    }\n",
              "</style>\n",
              "<table border=\"1\" class=\"dataframe\">\n",
              "  <thead>\n",
              "    <tr style=\"text-align: right;\">\n",
              "      <th></th>\n",
              "      <th>1</th>\n",
              "      <th>2</th>\n",
              "      <th>3</th>\n",
              "    </tr>\n",
              "  </thead>\n",
              "  <tbody>\n",
              "    <tr>\n",
              "      <th>Model name</th>\n",
              "      <td>LOG</td>\n",
              "      <td>NAIVE</td>\n",
              "      <td>DECISION</td>\n",
              "    </tr>\n",
              "    <tr>\n",
              "      <th>Accuracy score</th>\n",
              "      <td>0.75</td>\n",
              "      <td>0.71</td>\n",
              "      <td>0.71</td>\n",
              "    </tr>\n",
              "    <tr>\n",
              "      <th>Recall</th>\n",
              "      <td>0.75</td>\n",
              "      <td>0.71</td>\n",
              "      <td>0.71</td>\n",
              "    </tr>\n",
              "    <tr>\n",
              "      <th>Precison</th>\n",
              "      <td>0.73</td>\n",
              "      <td>0.68</td>\n",
              "      <td>0.7</td>\n",
              "    </tr>\n",
              "    <tr>\n",
              "      <th>F1_Score</th>\n",
              "      <td>0.74</td>\n",
              "      <td>0.69</td>\n",
              "      <td>0.7</td>\n",
              "    </tr>\n",
              "  </tbody>\n",
              "</table>\n",
              "</div>\n",
              "      <button class=\"colab-df-convert\" onclick=\"convertToInteractive('df-34bc7328-3111-4045-b904-2312d4605b39')\"\n",
              "              title=\"Convert this dataframe to an interactive table.\"\n",
              "              style=\"display:none;\">\n",
              "        \n",
              "  <svg xmlns=\"http://www.w3.org/2000/svg\" height=\"24px\"viewBox=\"0 0 24 24\"\n",
              "       width=\"24px\">\n",
              "    <path d=\"M0 0h24v24H0V0z\" fill=\"none\"/>\n",
              "    <path d=\"M18.56 5.44l.94 2.06.94-2.06 2.06-.94-2.06-.94-.94-2.06-.94 2.06-2.06.94zm-11 1L8.5 8.5l.94-2.06 2.06-.94-2.06-.94L8.5 2.5l-.94 2.06-2.06.94zm10 10l.94 2.06.94-2.06 2.06-.94-2.06-.94-.94-2.06-.94 2.06-2.06.94z\"/><path d=\"M17.41 7.96l-1.37-1.37c-.4-.4-.92-.59-1.43-.59-.52 0-1.04.2-1.43.59L10.3 9.45l-7.72 7.72c-.78.78-.78 2.05 0 2.83L4 21.41c.39.39.9.59 1.41.59.51 0 1.02-.2 1.41-.59l7.78-7.78 2.81-2.81c.8-.78.8-2.07 0-2.86zM5.41 20L4 18.59l7.72-7.72 1.47 1.35L5.41 20z\"/>\n",
              "  </svg>\n",
              "      </button>\n",
              "      \n",
              "  <style>\n",
              "    .colab-df-container {\n",
              "      display:flex;\n",
              "      flex-wrap:wrap;\n",
              "      gap: 12px;\n",
              "    }\n",
              "\n",
              "    .colab-df-convert {\n",
              "      background-color: #E8F0FE;\n",
              "      border: none;\n",
              "      border-radius: 50%;\n",
              "      cursor: pointer;\n",
              "      display: none;\n",
              "      fill: #1967D2;\n",
              "      height: 32px;\n",
              "      padding: 0 0 0 0;\n",
              "      width: 32px;\n",
              "    }\n",
              "\n",
              "    .colab-df-convert:hover {\n",
              "      background-color: #E2EBFA;\n",
              "      box-shadow: 0px 1px 2px rgba(60, 64, 67, 0.3), 0px 1px 3px 1px rgba(60, 64, 67, 0.15);\n",
              "      fill: #174EA6;\n",
              "    }\n",
              "\n",
              "    [theme=dark] .colab-df-convert {\n",
              "      background-color: #3B4455;\n",
              "      fill: #D2E3FC;\n",
              "    }\n",
              "\n",
              "    [theme=dark] .colab-df-convert:hover {\n",
              "      background-color: #434B5C;\n",
              "      box-shadow: 0px 1px 3px 1px rgba(0, 0, 0, 0.15);\n",
              "      filter: drop-shadow(0px 1px 2px rgba(0, 0, 0, 0.3));\n",
              "      fill: #FFFFFF;\n",
              "    }\n",
              "  </style>\n",
              "\n",
              "      <script>\n",
              "        const buttonEl =\n",
              "          document.querySelector('#df-34bc7328-3111-4045-b904-2312d4605b39 button.colab-df-convert');\n",
              "        buttonEl.style.display =\n",
              "          google.colab.kernel.accessAllowed ? 'block' : 'none';\n",
              "\n",
              "        async function convertToInteractive(key) {\n",
              "          const element = document.querySelector('#df-34bc7328-3111-4045-b904-2312d4605b39');\n",
              "          const dataTable =\n",
              "            await google.colab.kernel.invokeFunction('convertToInteractive',\n",
              "                                                     [key], {});\n",
              "          if (!dataTable) return;\n",
              "\n",
              "          const docLinkHtml = 'Like what you see? Visit the ' +\n",
              "            '<a target=\"_blank\" href=https://colab.research.google.com/notebooks/data_table.ipynb>data table notebook</a>'\n",
              "            + ' to learn more about interactive tables.';\n",
              "          element.innerHTML = '';\n",
              "          dataTable['output_type'] = 'display_data';\n",
              "          await google.colab.output.renderOutput(dataTable, element);\n",
              "          const docLink = document.createElement('div');\n",
              "          docLink.innerHTML = docLinkHtml;\n",
              "          element.appendChild(docLink);\n",
              "        }\n",
              "      </script>\n",
              "    </div>\n",
              "  </div>\n",
              "  "
            ]
          },
          "metadata": {},
          "execution_count": 109
        }
      ]
    },
    {
      "cell_type": "markdown",
      "source": [
        "**Observation :** From all models Log regression provides the best scores so we will use this model for predicting future values"
      ],
      "metadata": {
        "id": "O3fUns1nB224"
      }
    },
    {
      "cell_type": "markdown",
      "source": [
        "."
      ],
      "metadata": {
        "id": "eQR6U2UTMMkX"
      }
    },
    {
      "cell_type": "markdown",
      "source": [
        "### **Predicting future values to check which customer will be defaulter and which ones are non defaulters**"
      ],
      "metadata": {
        "id": "B1zl3NlVCKFE"
      }
    },
    {
      "cell_type": "code",
      "source": [
        "future_data.head()"
      ],
      "metadata": {
        "colab": {
          "base_uri": "https://localhost:8080/",
          "height": 206
        },
        "id": "TXGVagiW_bFh",
        "outputId": "c7160418-aec5-4e62-822c-288d88f3f662"
      },
      "execution_count": 110,
      "outputs": [
        {
          "output_type": "execute_result",
          "data": {
            "text/plain": [
              "     age  ed  employ  address  income  debtinc  creddebt   othdebt  default\n",
              "700   36   1      16       13    32.0     10.9  0.544128  2.943872      NaN\n",
              "701   50   1       6       27    21.0     12.9  1.316574  1.392426      NaN\n",
              "702   40   1       9        9    33.0     17.0  4.880700  0.729300      NaN\n",
              "703   31   1       5        7    23.0      2.0  0.046000  0.414000      NaN\n",
              "704   29   1       4        0    24.0      7.8  0.866736  1.005264      NaN"
            ],
            "text/html": [
              "\n",
              "  <div id=\"df-5dcd6b8e-b50e-45a9-baff-2e2f8d4773bc\">\n",
              "    <div class=\"colab-df-container\">\n",
              "      <div>\n",
              "<style scoped>\n",
              "    .dataframe tbody tr th:only-of-type {\n",
              "        vertical-align: middle;\n",
              "    }\n",
              "\n",
              "    .dataframe tbody tr th {\n",
              "        vertical-align: top;\n",
              "    }\n",
              "\n",
              "    .dataframe thead th {\n",
              "        text-align: right;\n",
              "    }\n",
              "</style>\n",
              "<table border=\"1\" class=\"dataframe\">\n",
              "  <thead>\n",
              "    <tr style=\"text-align: right;\">\n",
              "      <th></th>\n",
              "      <th>age</th>\n",
              "      <th>ed</th>\n",
              "      <th>employ</th>\n",
              "      <th>address</th>\n",
              "      <th>income</th>\n",
              "      <th>debtinc</th>\n",
              "      <th>creddebt</th>\n",
              "      <th>othdebt</th>\n",
              "      <th>default</th>\n",
              "    </tr>\n",
              "  </thead>\n",
              "  <tbody>\n",
              "    <tr>\n",
              "      <th>700</th>\n",
              "      <td>36</td>\n",
              "      <td>1</td>\n",
              "      <td>16</td>\n",
              "      <td>13</td>\n",
              "      <td>32.0</td>\n",
              "      <td>10.9</td>\n",
              "      <td>0.544128</td>\n",
              "      <td>2.943872</td>\n",
              "      <td>NaN</td>\n",
              "    </tr>\n",
              "    <tr>\n",
              "      <th>701</th>\n",
              "      <td>50</td>\n",
              "      <td>1</td>\n",
              "      <td>6</td>\n",
              "      <td>27</td>\n",
              "      <td>21.0</td>\n",
              "      <td>12.9</td>\n",
              "      <td>1.316574</td>\n",
              "      <td>1.392426</td>\n",
              "      <td>NaN</td>\n",
              "    </tr>\n",
              "    <tr>\n",
              "      <th>702</th>\n",
              "      <td>40</td>\n",
              "      <td>1</td>\n",
              "      <td>9</td>\n",
              "      <td>9</td>\n",
              "      <td>33.0</td>\n",
              "      <td>17.0</td>\n",
              "      <td>4.880700</td>\n",
              "      <td>0.729300</td>\n",
              "      <td>NaN</td>\n",
              "    </tr>\n",
              "    <tr>\n",
              "      <th>703</th>\n",
              "      <td>31</td>\n",
              "      <td>1</td>\n",
              "      <td>5</td>\n",
              "      <td>7</td>\n",
              "      <td>23.0</td>\n",
              "      <td>2.0</td>\n",
              "      <td>0.046000</td>\n",
              "      <td>0.414000</td>\n",
              "      <td>NaN</td>\n",
              "    </tr>\n",
              "    <tr>\n",
              "      <th>704</th>\n",
              "      <td>29</td>\n",
              "      <td>1</td>\n",
              "      <td>4</td>\n",
              "      <td>0</td>\n",
              "      <td>24.0</td>\n",
              "      <td>7.8</td>\n",
              "      <td>0.866736</td>\n",
              "      <td>1.005264</td>\n",
              "      <td>NaN</td>\n",
              "    </tr>\n",
              "  </tbody>\n",
              "</table>\n",
              "</div>\n",
              "      <button class=\"colab-df-convert\" onclick=\"convertToInteractive('df-5dcd6b8e-b50e-45a9-baff-2e2f8d4773bc')\"\n",
              "              title=\"Convert this dataframe to an interactive table.\"\n",
              "              style=\"display:none;\">\n",
              "        \n",
              "  <svg xmlns=\"http://www.w3.org/2000/svg\" height=\"24px\"viewBox=\"0 0 24 24\"\n",
              "       width=\"24px\">\n",
              "    <path d=\"M0 0h24v24H0V0z\" fill=\"none\"/>\n",
              "    <path d=\"M18.56 5.44l.94 2.06.94-2.06 2.06-.94-2.06-.94-.94-2.06-.94 2.06-2.06.94zm-11 1L8.5 8.5l.94-2.06 2.06-.94-2.06-.94L8.5 2.5l-.94 2.06-2.06.94zm10 10l.94 2.06.94-2.06 2.06-.94-2.06-.94-.94-2.06-.94 2.06-2.06.94z\"/><path d=\"M17.41 7.96l-1.37-1.37c-.4-.4-.92-.59-1.43-.59-.52 0-1.04.2-1.43.59L10.3 9.45l-7.72 7.72c-.78.78-.78 2.05 0 2.83L4 21.41c.39.39.9.59 1.41.59.51 0 1.02-.2 1.41-.59l7.78-7.78 2.81-2.81c.8-.78.8-2.07 0-2.86zM5.41 20L4 18.59l7.72-7.72 1.47 1.35L5.41 20z\"/>\n",
              "  </svg>\n",
              "      </button>\n",
              "      \n",
              "  <style>\n",
              "    .colab-df-container {\n",
              "      display:flex;\n",
              "      flex-wrap:wrap;\n",
              "      gap: 12px;\n",
              "    }\n",
              "\n",
              "    .colab-df-convert {\n",
              "      background-color: #E8F0FE;\n",
              "      border: none;\n",
              "      border-radius: 50%;\n",
              "      cursor: pointer;\n",
              "      display: none;\n",
              "      fill: #1967D2;\n",
              "      height: 32px;\n",
              "      padding: 0 0 0 0;\n",
              "      width: 32px;\n",
              "    }\n",
              "\n",
              "    .colab-df-convert:hover {\n",
              "      background-color: #E2EBFA;\n",
              "      box-shadow: 0px 1px 2px rgba(60, 64, 67, 0.3), 0px 1px 3px 1px rgba(60, 64, 67, 0.15);\n",
              "      fill: #174EA6;\n",
              "    }\n",
              "\n",
              "    [theme=dark] .colab-df-convert {\n",
              "      background-color: #3B4455;\n",
              "      fill: #D2E3FC;\n",
              "    }\n",
              "\n",
              "    [theme=dark] .colab-df-convert:hover {\n",
              "      background-color: #434B5C;\n",
              "      box-shadow: 0px 1px 3px 1px rgba(0, 0, 0, 0.15);\n",
              "      filter: drop-shadow(0px 1px 2px rgba(0, 0, 0, 0.3));\n",
              "      fill: #FFFFFF;\n",
              "    }\n",
              "  </style>\n",
              "\n",
              "      <script>\n",
              "        const buttonEl =\n",
              "          document.querySelector('#df-5dcd6b8e-b50e-45a9-baff-2e2f8d4773bc button.colab-df-convert');\n",
              "        buttonEl.style.display =\n",
              "          google.colab.kernel.accessAllowed ? 'block' : 'none';\n",
              "\n",
              "        async function convertToInteractive(key) {\n",
              "          const element = document.querySelector('#df-5dcd6b8e-b50e-45a9-baff-2e2f8d4773bc');\n",
              "          const dataTable =\n",
              "            await google.colab.kernel.invokeFunction('convertToInteractive',\n",
              "                                                     [key], {});\n",
              "          if (!dataTable) return;\n",
              "\n",
              "          const docLinkHtml = 'Like what you see? Visit the ' +\n",
              "            '<a target=\"_blank\" href=https://colab.research.google.com/notebooks/data_table.ipynb>data table notebook</a>'\n",
              "            + ' to learn more about interactive tables.';\n",
              "          element.innerHTML = '';\n",
              "          dataTable['output_type'] = 'display_data';\n",
              "          await google.colab.output.renderOutput(dataTable, element);\n",
              "          const docLink = document.createElement('div');\n",
              "          docLink.innerHTML = docLinkHtml;\n",
              "          element.appendChild(docLink);\n",
              "        }\n",
              "      </script>\n",
              "    </div>\n",
              "  </div>\n",
              "  "
            ]
          },
          "metadata": {},
          "execution_count": 110
        }
      ]
    },
    {
      "cell_type": "markdown",
      "source": [
        "**Predicting defalters with Log regression model**\n"
      ],
      "metadata": {
        "id": "AsleF5GSMRT3"
      }
    },
    {
      "cell_type": "code",
      "source": [
        "y_pred=logreg.predict(future_data.drop('default',axis=1)) "
      ],
      "metadata": {
        "id": "s2nzM1rjCsTn"
      },
      "execution_count": 114,
      "outputs": []
    },
    {
      "cell_type": "code",
      "source": [
        "future_data['default']=y_pred"
      ],
      "metadata": {
        "id": "IckWkuVRDK1e"
      },
      "execution_count": 116,
      "outputs": []
    },
    {
      "cell_type": "code",
      "source": [
        "future_data.sample(10)"
      ],
      "metadata": {
        "colab": {
          "base_uri": "https://localhost:8080/",
          "height": 363
        },
        "id": "G0_8_mxIDMuL",
        "outputId": "22c9af5a-8129-4b0c-ad7f-62bc22de86eb"
      },
      "execution_count": 118,
      "outputs": [
        {
          "output_type": "execute_result",
          "data": {
            "text/plain": [
              "     age  ed  employ  address  income  debtinc  creddebt   othdebt  default\n",
              "828   46   1       6       19    30.0     17.6  1.415040  3.864960      0.0\n",
              "785   31   1       6        1    45.0      7.3  0.584730  2.700270      0.0\n",
              "725   33   4       4       12    22.0      5.5  0.566280  0.643720      0.0\n",
              "752   32   3       6       12    22.0      6.7  0.384714  1.089286      0.0\n",
              "736   26   1       0        5    17.0      5.0  0.141950  0.708050      0.0\n",
              "706   34   1       4        3    28.0      9.4  1.058064  1.573936      0.0\n",
              "837   31   2      12        8    44.0      9.6  1.867008  2.356992      0.0\n",
              "757   30   1       0        2    20.0      5.4  0.622080  0.457920      1.0\n",
              "758   25   3       3        2    54.0      7.4  1.162836  2.833164      0.0\n",
              "792   45   1      14       26    46.0      5.1  1.262148  1.083852      0.0"
            ],
            "text/html": [
              "\n",
              "  <div id=\"df-e6f87b7a-643d-487a-b4b6-354280e571b4\">\n",
              "    <div class=\"colab-df-container\">\n",
              "      <div>\n",
              "<style scoped>\n",
              "    .dataframe tbody tr th:only-of-type {\n",
              "        vertical-align: middle;\n",
              "    }\n",
              "\n",
              "    .dataframe tbody tr th {\n",
              "        vertical-align: top;\n",
              "    }\n",
              "\n",
              "    .dataframe thead th {\n",
              "        text-align: right;\n",
              "    }\n",
              "</style>\n",
              "<table border=\"1\" class=\"dataframe\">\n",
              "  <thead>\n",
              "    <tr style=\"text-align: right;\">\n",
              "      <th></th>\n",
              "      <th>age</th>\n",
              "      <th>ed</th>\n",
              "      <th>employ</th>\n",
              "      <th>address</th>\n",
              "      <th>income</th>\n",
              "      <th>debtinc</th>\n",
              "      <th>creddebt</th>\n",
              "      <th>othdebt</th>\n",
              "      <th>default</th>\n",
              "    </tr>\n",
              "  </thead>\n",
              "  <tbody>\n",
              "    <tr>\n",
              "      <th>828</th>\n",
              "      <td>46</td>\n",
              "      <td>1</td>\n",
              "      <td>6</td>\n",
              "      <td>19</td>\n",
              "      <td>30.0</td>\n",
              "      <td>17.6</td>\n",
              "      <td>1.415040</td>\n",
              "      <td>3.864960</td>\n",
              "      <td>0.0</td>\n",
              "    </tr>\n",
              "    <tr>\n",
              "      <th>785</th>\n",
              "      <td>31</td>\n",
              "      <td>1</td>\n",
              "      <td>6</td>\n",
              "      <td>1</td>\n",
              "      <td>45.0</td>\n",
              "      <td>7.3</td>\n",
              "      <td>0.584730</td>\n",
              "      <td>2.700270</td>\n",
              "      <td>0.0</td>\n",
              "    </tr>\n",
              "    <tr>\n",
              "      <th>725</th>\n",
              "      <td>33</td>\n",
              "      <td>4</td>\n",
              "      <td>4</td>\n",
              "      <td>12</td>\n",
              "      <td>22.0</td>\n",
              "      <td>5.5</td>\n",
              "      <td>0.566280</td>\n",
              "      <td>0.643720</td>\n",
              "      <td>0.0</td>\n",
              "    </tr>\n",
              "    <tr>\n",
              "      <th>752</th>\n",
              "      <td>32</td>\n",
              "      <td>3</td>\n",
              "      <td>6</td>\n",
              "      <td>12</td>\n",
              "      <td>22.0</td>\n",
              "      <td>6.7</td>\n",
              "      <td>0.384714</td>\n",
              "      <td>1.089286</td>\n",
              "      <td>0.0</td>\n",
              "    </tr>\n",
              "    <tr>\n",
              "      <th>736</th>\n",
              "      <td>26</td>\n",
              "      <td>1</td>\n",
              "      <td>0</td>\n",
              "      <td>5</td>\n",
              "      <td>17.0</td>\n",
              "      <td>5.0</td>\n",
              "      <td>0.141950</td>\n",
              "      <td>0.708050</td>\n",
              "      <td>0.0</td>\n",
              "    </tr>\n",
              "    <tr>\n",
              "      <th>706</th>\n",
              "      <td>34</td>\n",
              "      <td>1</td>\n",
              "      <td>4</td>\n",
              "      <td>3</td>\n",
              "      <td>28.0</td>\n",
              "      <td>9.4</td>\n",
              "      <td>1.058064</td>\n",
              "      <td>1.573936</td>\n",
              "      <td>0.0</td>\n",
              "    </tr>\n",
              "    <tr>\n",
              "      <th>837</th>\n",
              "      <td>31</td>\n",
              "      <td>2</td>\n",
              "      <td>12</td>\n",
              "      <td>8</td>\n",
              "      <td>44.0</td>\n",
              "      <td>9.6</td>\n",
              "      <td>1.867008</td>\n",
              "      <td>2.356992</td>\n",
              "      <td>0.0</td>\n",
              "    </tr>\n",
              "    <tr>\n",
              "      <th>757</th>\n",
              "      <td>30</td>\n",
              "      <td>1</td>\n",
              "      <td>0</td>\n",
              "      <td>2</td>\n",
              "      <td>20.0</td>\n",
              "      <td>5.4</td>\n",
              "      <td>0.622080</td>\n",
              "      <td>0.457920</td>\n",
              "      <td>1.0</td>\n",
              "    </tr>\n",
              "    <tr>\n",
              "      <th>758</th>\n",
              "      <td>25</td>\n",
              "      <td>3</td>\n",
              "      <td>3</td>\n",
              "      <td>2</td>\n",
              "      <td>54.0</td>\n",
              "      <td>7.4</td>\n",
              "      <td>1.162836</td>\n",
              "      <td>2.833164</td>\n",
              "      <td>0.0</td>\n",
              "    </tr>\n",
              "    <tr>\n",
              "      <th>792</th>\n",
              "      <td>45</td>\n",
              "      <td>1</td>\n",
              "      <td>14</td>\n",
              "      <td>26</td>\n",
              "      <td>46.0</td>\n",
              "      <td>5.1</td>\n",
              "      <td>1.262148</td>\n",
              "      <td>1.083852</td>\n",
              "      <td>0.0</td>\n",
              "    </tr>\n",
              "  </tbody>\n",
              "</table>\n",
              "</div>\n",
              "      <button class=\"colab-df-convert\" onclick=\"convertToInteractive('df-e6f87b7a-643d-487a-b4b6-354280e571b4')\"\n",
              "              title=\"Convert this dataframe to an interactive table.\"\n",
              "              style=\"display:none;\">\n",
              "        \n",
              "  <svg xmlns=\"http://www.w3.org/2000/svg\" height=\"24px\"viewBox=\"0 0 24 24\"\n",
              "       width=\"24px\">\n",
              "    <path d=\"M0 0h24v24H0V0z\" fill=\"none\"/>\n",
              "    <path d=\"M18.56 5.44l.94 2.06.94-2.06 2.06-.94-2.06-.94-.94-2.06-.94 2.06-2.06.94zm-11 1L8.5 8.5l.94-2.06 2.06-.94-2.06-.94L8.5 2.5l-.94 2.06-2.06.94zm10 10l.94 2.06.94-2.06 2.06-.94-2.06-.94-.94-2.06-.94 2.06-2.06.94z\"/><path d=\"M17.41 7.96l-1.37-1.37c-.4-.4-.92-.59-1.43-.59-.52 0-1.04.2-1.43.59L10.3 9.45l-7.72 7.72c-.78.78-.78 2.05 0 2.83L4 21.41c.39.39.9.59 1.41.59.51 0 1.02-.2 1.41-.59l7.78-7.78 2.81-2.81c.8-.78.8-2.07 0-2.86zM5.41 20L4 18.59l7.72-7.72 1.47 1.35L5.41 20z\"/>\n",
              "  </svg>\n",
              "      </button>\n",
              "      \n",
              "  <style>\n",
              "    .colab-df-container {\n",
              "      display:flex;\n",
              "      flex-wrap:wrap;\n",
              "      gap: 12px;\n",
              "    }\n",
              "\n",
              "    .colab-df-convert {\n",
              "      background-color: #E8F0FE;\n",
              "      border: none;\n",
              "      border-radius: 50%;\n",
              "      cursor: pointer;\n",
              "      display: none;\n",
              "      fill: #1967D2;\n",
              "      height: 32px;\n",
              "      padding: 0 0 0 0;\n",
              "      width: 32px;\n",
              "    }\n",
              "\n",
              "    .colab-df-convert:hover {\n",
              "      background-color: #E2EBFA;\n",
              "      box-shadow: 0px 1px 2px rgba(60, 64, 67, 0.3), 0px 1px 3px 1px rgba(60, 64, 67, 0.15);\n",
              "      fill: #174EA6;\n",
              "    }\n",
              "\n",
              "    [theme=dark] .colab-df-convert {\n",
              "      background-color: #3B4455;\n",
              "      fill: #D2E3FC;\n",
              "    }\n",
              "\n",
              "    [theme=dark] .colab-df-convert:hover {\n",
              "      background-color: #434B5C;\n",
              "      box-shadow: 0px 1px 3px 1px rgba(0, 0, 0, 0.15);\n",
              "      filter: drop-shadow(0px 1px 2px rgba(0, 0, 0, 0.3));\n",
              "      fill: #FFFFFF;\n",
              "    }\n",
              "  </style>\n",
              "\n",
              "      <script>\n",
              "        const buttonEl =\n",
              "          document.querySelector('#df-e6f87b7a-643d-487a-b4b6-354280e571b4 button.colab-df-convert');\n",
              "        buttonEl.style.display =\n",
              "          google.colab.kernel.accessAllowed ? 'block' : 'none';\n",
              "\n",
              "        async function convertToInteractive(key) {\n",
              "          const element = document.querySelector('#df-e6f87b7a-643d-487a-b4b6-354280e571b4');\n",
              "          const dataTable =\n",
              "            await google.colab.kernel.invokeFunction('convertToInteractive',\n",
              "                                                     [key], {});\n",
              "          if (!dataTable) return;\n",
              "\n",
              "          const docLinkHtml = 'Like what you see? Visit the ' +\n",
              "            '<a target=\"_blank\" href=https://colab.research.google.com/notebooks/data_table.ipynb>data table notebook</a>'\n",
              "            + ' to learn more about interactive tables.';\n",
              "          element.innerHTML = '';\n",
              "          dataTable['output_type'] = 'display_data';\n",
              "          await google.colab.output.renderOutput(dataTable, element);\n",
              "          const docLink = document.createElement('div');\n",
              "          docLink.innerHTML = docLinkHtml;\n",
              "          element.appendChild(docLink);\n",
              "        }\n",
              "      </script>\n",
              "    </div>\n",
              "  </div>\n",
              "  "
            ]
          },
          "metadata": {},
          "execution_count": 118
        }
      ]
    },
    {
      "cell_type": "code",
      "source": [
        "future_data.default.value_counts()"
      ],
      "metadata": {
        "colab": {
          "base_uri": "https://localhost:8080/"
        },
        "id": "XqvYo9Zb3o_w",
        "outputId": "382f9258-1554-4600-a231-9c3c2c1fe012"
      },
      "execution_count": 145,
      "outputs": [
        {
          "output_type": "execute_result",
          "data": {
            "text/plain": [
              "0.0    138\n",
              "1.0     12\n",
              "Name: default, dtype: int64"
            ]
          },
          "metadata": {},
          "execution_count": 145
        }
      ]
    },
    {
      "cell_type": "markdown",
      "source": [
        "###**Final Output and Recommendation** \n",
        "\n",
        "*  From log regression model we have predicted the future value of defaulters as 12  and non defaulters as 138 out of 150\n",
        "*  This can help Bank to disperse the new loans accordingly and will bring profit to there business\n",
        "\n",
        "*   Bank should focus more on Education level 1 and 2 customers as they have less defaulters\n",
        "*   Major focus should be on low to middle income class customers as they are the ones  majorly taking loans\n",
        "\n",
        "**Recommendations**\n",
        "*   Mojor customers are youngsters who have recently joined job or have some experience so banks should provide some schemes to attract these customers to take there loans  \n",
        "*  Also we can see these youngsters are majorly less educated so bank can help them persue higher education along with there jobs by providing education loans.\n",
        "\n",
        "\n",
        "\n",
        "\n",
        "\n",
        "\n",
        "\n",
        "\n"
      ],
      "metadata": {
        "id": "tASHpXitDjfs"
      }
    },
    {
      "cell_type": "code",
      "source": [],
      "metadata": {
        "id": "PFbewm33DXGX"
      },
      "execution_count": null,
      "outputs": []
    },
    {
      "cell_type": "markdown",
      "source": [
        "\n",
        "\n",
        "*   List item\n",
        "*   List item\n",
        "\n"
      ],
      "metadata": {
        "id": "rLsfiR9BJSxT"
      }
    }
  ]
}